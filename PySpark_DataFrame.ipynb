{
  "nbformat": 4,
  "nbformat_minor": 0,
  "metadata": {
    "colab": {
      "name": "PySpark_DataFrame.ipynb",
      "version": "0.3.2",
      "provenance": [],
      "collapsed_sections": [],
      "include_colab_link": true
    },
    "kernelspec": {
      "name": "python3",
      "display_name": "Python 3"
    }
  },
  "cells": [
    {
      "cell_type": "markdown",
      "metadata": {
        "id": "view-in-github",
        "colab_type": "text"
      },
      "source": [
        "<a href=\"https://colab.research.google.com/github/futurexskill/bigdata/blob/master/PySpark_DataFrame.ipynb\" target=\"_parent\"><img src=\"https://colab.research.google.com/assets/colab-badge.svg\" alt=\"Open In Colab\"/></a>"
      ]
    },
    {
      "cell_type": "markdown",
      "metadata": {
        "id": "QZ5u_3-zlzjU",
        "colab_type": "text"
      },
      "source": [
        "## Install JDK\n",
        "## Install Spark\n",
        "## Set Environment variables\n",
        "## Create a Spark Session"
      ]
    },
    {
      "cell_type": "code",
      "metadata": {
        "id": "HP2q-spF9dGi",
        "colab_type": "code",
        "outputId": "d993e06f-3c36-461a-c903-68f36103b862",
        "colab": {
          "base_uri": "https://localhost:8080/",
          "height": 1000
        }
      },
      "source": [
        "!apt-get install openjdk-8-jdk-headless -qq > /dev/null\n",
        "!wget -q http://apachemirror.wuchna.com/spark/spark-2.4.3/spark-2.4.3-bin-hadoop2.7.tgz\n",
        "!tar -xvf spark-2.4.3-bin-hadoop2.7.tgz\n",
        "!pip install -q findspark\n",
        "import os\n",
        "os.environ[\"JAVA_HOME\"] = \"/usr/lib/jvm/java-8-openjdk-amd64\"\n",
        "os.environ[\"SPARK_HOME\"] = \"/content/spark-2.4.3-bin-hadoop2.7\"\n",
        "import findspark\n",
        "findspark.init()\n",
        "from pyspark.sql import SparkSession\n",
        "spark = SparkSession.builder.master(\"local[*]\").getOrCreate()"
      ],
      "execution_count": 0,
      "outputs": [
        {
          "output_type": "stream",
          "text": [
            "spark-2.4.3-bin-hadoop2.7/\n",
            "spark-2.4.3-bin-hadoop2.7/python/\n",
            "spark-2.4.3-bin-hadoop2.7/python/setup.cfg\n",
            "spark-2.4.3-bin-hadoop2.7/python/pyspark/\n",
            "spark-2.4.3-bin-hadoop2.7/python/pyspark/resultiterable.py\n",
            "spark-2.4.3-bin-hadoop2.7/python/pyspark/python/\n",
            "spark-2.4.3-bin-hadoop2.7/python/pyspark/python/pyspark/\n",
            "spark-2.4.3-bin-hadoop2.7/python/pyspark/python/pyspark/shell.py\n",
            "spark-2.4.3-bin-hadoop2.7/python/pyspark/heapq3.py\n",
            "spark-2.4.3-bin-hadoop2.7/python/pyspark/join.py\n",
            "spark-2.4.3-bin-hadoop2.7/python/pyspark/version.py\n",
            "spark-2.4.3-bin-hadoop2.7/python/pyspark/rdd.py\n",
            "spark-2.4.3-bin-hadoop2.7/python/pyspark/java_gateway.py\n",
            "spark-2.4.3-bin-hadoop2.7/python/pyspark/find_spark_home.py\n",
            "spark-2.4.3-bin-hadoop2.7/python/pyspark/_globals.py\n",
            "spark-2.4.3-bin-hadoop2.7/python/pyspark/worker.py\n",
            "spark-2.4.3-bin-hadoop2.7/python/pyspark/accumulators.py\n",
            "spark-2.4.3-bin-hadoop2.7/python/pyspark/mllib/\n",
            "spark-2.4.3-bin-hadoop2.7/python/pyspark/mllib/feature.py\n",
            "spark-2.4.3-bin-hadoop2.7/python/pyspark/mllib/random.py\n",
            "spark-2.4.3-bin-hadoop2.7/python/pyspark/mllib/recommendation.py\n",
            "spark-2.4.3-bin-hadoop2.7/python/pyspark/mllib/fpm.py\n",
            "spark-2.4.3-bin-hadoop2.7/python/pyspark/mllib/classification.py\n",
            "spark-2.4.3-bin-hadoop2.7/python/pyspark/mllib/stat/\n",
            "spark-2.4.3-bin-hadoop2.7/python/pyspark/mllib/stat/KernelDensity.py\n",
            "spark-2.4.3-bin-hadoop2.7/python/pyspark/mllib/stat/distribution.py\n",
            "spark-2.4.3-bin-hadoop2.7/python/pyspark/mllib/stat/test.py\n",
            "spark-2.4.3-bin-hadoop2.7/python/pyspark/mllib/stat/_statistics.py\n",
            "spark-2.4.3-bin-hadoop2.7/python/pyspark/mllib/stat/__init__.py\n",
            "spark-2.4.3-bin-hadoop2.7/python/pyspark/mllib/util.py\n",
            "spark-2.4.3-bin-hadoop2.7/python/pyspark/mllib/regression.py\n",
            "spark-2.4.3-bin-hadoop2.7/python/pyspark/mllib/clustering.py\n",
            "spark-2.4.3-bin-hadoop2.7/python/pyspark/mllib/linalg/\n",
            "spark-2.4.3-bin-hadoop2.7/python/pyspark/mllib/linalg/distributed.py\n",
            "spark-2.4.3-bin-hadoop2.7/python/pyspark/mllib/linalg/__init__.py\n",
            "spark-2.4.3-bin-hadoop2.7/python/pyspark/mllib/tree.py\n",
            "spark-2.4.3-bin-hadoop2.7/python/pyspark/mllib/__init__.py\n",
            "spark-2.4.3-bin-hadoop2.7/python/pyspark/mllib/evaluation.py\n",
            "spark-2.4.3-bin-hadoop2.7/python/pyspark/mllib/common.py\n",
            "spark-2.4.3-bin-hadoop2.7/python/pyspark/mllib/tests.py\n",
            "spark-2.4.3-bin-hadoop2.7/python/pyspark/util.py\n",
            "spark-2.4.3-bin-hadoop2.7/python/pyspark/test_broadcast.py\n",
            "spark-2.4.3-bin-hadoop2.7/python/pyspark/shell.py\n",
            "spark-2.4.3-bin-hadoop2.7/python/pyspark/ml/\n",
            "spark-2.4.3-bin-hadoop2.7/python/pyspark/ml/feature.py\n",
            "spark-2.4.3-bin-hadoop2.7/python/pyspark/ml/recommendation.py\n",
            "spark-2.4.3-bin-hadoop2.7/python/pyspark/ml/fpm.py\n",
            "spark-2.4.3-bin-hadoop2.7/python/pyspark/ml/classification.py\n",
            "spark-2.4.3-bin-hadoop2.7/python/pyspark/ml/stat.py\n",
            "spark-2.4.3-bin-hadoop2.7/python/pyspark/ml/util.py\n",
            "spark-2.4.3-bin-hadoop2.7/python/pyspark/ml/tuning.py\n",
            "spark-2.4.3-bin-hadoop2.7/python/pyspark/ml/regression.py\n",
            "spark-2.4.3-bin-hadoop2.7/python/pyspark/ml/base.py\n",
            "spark-2.4.3-bin-hadoop2.7/python/pyspark/ml/clustering.py\n",
            "spark-2.4.3-bin-hadoop2.7/python/pyspark/ml/wrapper.py\n",
            "spark-2.4.3-bin-hadoop2.7/python/pyspark/ml/pipeline.py\n",
            "spark-2.4.3-bin-hadoop2.7/python/pyspark/ml/linalg/\n",
            "spark-2.4.3-bin-hadoop2.7/python/pyspark/ml/linalg/__init__.py\n",
            "spark-2.4.3-bin-hadoop2.7/python/pyspark/ml/param/\n",
            "spark-2.4.3-bin-hadoop2.7/python/pyspark/ml/param/_shared_params_code_gen.py\n",
            "spark-2.4.3-bin-hadoop2.7/python/pyspark/ml/param/shared.py\n",
            "spark-2.4.3-bin-hadoop2.7/python/pyspark/ml/param/__init__.py\n",
            "spark-2.4.3-bin-hadoop2.7/python/pyspark/ml/__init__.py\n",
            "spark-2.4.3-bin-hadoop2.7/python/pyspark/ml/evaluation.py\n",
            "spark-2.4.3-bin-hadoop2.7/python/pyspark/ml/common.py\n",
            "spark-2.4.3-bin-hadoop2.7/python/pyspark/ml/tests.py\n",
            "spark-2.4.3-bin-hadoop2.7/python/pyspark/ml/image.py\n",
            "spark-2.4.3-bin-hadoop2.7/python/pyspark/test_serializers.py\n",
            "spark-2.4.3-bin-hadoop2.7/python/pyspark/cloudpickle.py\n",
            "spark-2.4.3-bin-hadoop2.7/python/pyspark/serializers.py\n",
            "spark-2.4.3-bin-hadoop2.7/python/pyspark/daemon.py\n",
            "spark-2.4.3-bin-hadoop2.7/python/pyspark/files.py\n",
            "spark-2.4.3-bin-hadoop2.7/python/pyspark/rddsampler.py\n",
            "spark-2.4.3-bin-hadoop2.7/python/pyspark/statcounter.py\n",
            "spark-2.4.3-bin-hadoop2.7/python/pyspark/streaming/\n",
            "spark-2.4.3-bin-hadoop2.7/python/pyspark/streaming/kafka.py\n",
            "spark-2.4.3-bin-hadoop2.7/python/pyspark/streaming/util.py\n",
            "spark-2.4.3-bin-hadoop2.7/python/pyspark/streaming/kinesis.py\n",
            "spark-2.4.3-bin-hadoop2.7/python/pyspark/streaming/flume.py\n",
            "spark-2.4.3-bin-hadoop2.7/python/pyspark/streaming/__init__.py\n",
            "spark-2.4.3-bin-hadoop2.7/python/pyspark/streaming/context.py\n",
            "spark-2.4.3-bin-hadoop2.7/python/pyspark/streaming/tests.py\n",
            "spark-2.4.3-bin-hadoop2.7/python/pyspark/streaming/dstream.py\n",
            "spark-2.4.3-bin-hadoop2.7/python/pyspark/streaming/listener.py\n",
            "spark-2.4.3-bin-hadoop2.7/python/pyspark/taskcontext.py\n",
            "spark-2.4.3-bin-hadoop2.7/python/pyspark/__init__.py\n",
            "spark-2.4.3-bin-hadoop2.7/python/pyspark/storagelevel.py\n",
            "spark-2.4.3-bin-hadoop2.7/python/pyspark/broadcast.py\n",
            "spark-2.4.3-bin-hadoop2.7/python/pyspark/profiler.py\n",
            "spark-2.4.3-bin-hadoop2.7/python/pyspark/traceback_utils.py\n",
            "spark-2.4.3-bin-hadoop2.7/python/pyspark/context.py\n",
            "spark-2.4.3-bin-hadoop2.7/python/pyspark/status.py\n",
            "spark-2.4.3-bin-hadoop2.7/python/pyspark/sql/\n",
            "spark-2.4.3-bin-hadoop2.7/python/pyspark/sql/streaming.py\n",
            "spark-2.4.3-bin-hadoop2.7/python/pyspark/sql/readwriter.py\n",
            "spark-2.4.3-bin-hadoop2.7/python/pyspark/sql/catalog.py\n",
            "spark-2.4.3-bin-hadoop2.7/python/pyspark/sql/session.py\n",
            "spark-2.4.3-bin-hadoop2.7/python/pyspark/sql/column.py\n",
            "spark-2.4.3-bin-hadoop2.7/python/pyspark/sql/functions.py\n",
            "spark-2.4.3-bin-hadoop2.7/python/pyspark/sql/dataframe.py\n",
            "spark-2.4.3-bin-hadoop2.7/python/pyspark/sql/window.py\n",
            "spark-2.4.3-bin-hadoop2.7/python/pyspark/sql/udf.py\n",
            "spark-2.4.3-bin-hadoop2.7/python/pyspark/sql/__init__.py\n",
            "spark-2.4.3-bin-hadoop2.7/python/pyspark/sql/utils.py\n",
            "spark-2.4.3-bin-hadoop2.7/python/pyspark/sql/group.py\n",
            "spark-2.4.3-bin-hadoop2.7/python/pyspark/sql/context.py\n",
            "spark-2.4.3-bin-hadoop2.7/python/pyspark/sql/tests.py\n",
            "spark-2.4.3-bin-hadoop2.7/python/pyspark/sql/conf.py\n",
            "spark-2.4.3-bin-hadoop2.7/python/pyspark/sql/types.py\n",
            "spark-2.4.3-bin-hadoop2.7/python/pyspark/tests.py\n",
            "spark-2.4.3-bin-hadoop2.7/python/pyspark/conf.py\n",
            "spark-2.4.3-bin-hadoop2.7/python/pyspark/shuffle.py\n",
            "spark-2.4.3-bin-hadoop2.7/python/.gitignore\n",
            "spark-2.4.3-bin-hadoop2.7/python/docs/\n",
            "spark-2.4.3-bin-hadoop2.7/python/docs/epytext.py\n",
            "spark-2.4.3-bin-hadoop2.7/python/docs/make2.bat\n",
            "spark-2.4.3-bin-hadoop2.7/python/docs/pyspark.sql.rst\n",
            "spark-2.4.3-bin-hadoop2.7/python/docs/make.bat\n",
            "spark-2.4.3-bin-hadoop2.7/python/docs/index.rst\n",
            "spark-2.4.3-bin-hadoop2.7/python/docs/_templates/\n",
            "spark-2.4.3-bin-hadoop2.7/python/docs/_templates/layout.html\n",
            "spark-2.4.3-bin-hadoop2.7/python/docs/_static/\n",
            "spark-2.4.3-bin-hadoop2.7/python/docs/_static/pyspark.js\n",
            "spark-2.4.3-bin-hadoop2.7/python/docs/_static/pyspark.css\n",
            "spark-2.4.3-bin-hadoop2.7/python/docs/pyspark.ml.rst\n",
            "spark-2.4.3-bin-hadoop2.7/python/docs/pyspark.streaming.rst\n",
            "spark-2.4.3-bin-hadoop2.7/python/docs/conf.py\n",
            "spark-2.4.3-bin-hadoop2.7/python/docs/pyspark.mllib.rst\n",
            "spark-2.4.3-bin-hadoop2.7/python/docs/pyspark.rst\n",
            "spark-2.4.3-bin-hadoop2.7/python/docs/Makefile\n",
            "spark-2.4.3-bin-hadoop2.7/python/test_coverage/\n",
            "spark-2.4.3-bin-hadoop2.7/python/test_coverage/conf/\n",
            "spark-2.4.3-bin-hadoop2.7/python/test_coverage/conf/spark-defaults.conf\n",
            "spark-2.4.3-bin-hadoop2.7/python/test_coverage/sitecustomize.py\n",
            "spark-2.4.3-bin-hadoop2.7/python/test_coverage/coverage_daemon.py\n",
            "spark-2.4.3-bin-hadoop2.7/python/run-tests-with-coverage\n",
            "spark-2.4.3-bin-hadoop2.7/python/pyspark.egg-info/\n",
            "spark-2.4.3-bin-hadoop2.7/python/pyspark.egg-info/top_level.txt\n",
            "spark-2.4.3-bin-hadoop2.7/python/pyspark.egg-info/dependency_links.txt\n",
            "spark-2.4.3-bin-hadoop2.7/python/pyspark.egg-info/requires.txt\n",
            "spark-2.4.3-bin-hadoop2.7/python/pyspark.egg-info/PKG-INFO\n",
            "spark-2.4.3-bin-hadoop2.7/python/pyspark.egg-info/SOURCES.txt\n",
            "spark-2.4.3-bin-hadoop2.7/python/MANIFEST.in\n",
            "spark-2.4.3-bin-hadoop2.7/python/test_support/\n",
            "spark-2.4.3-bin-hadoop2.7/python/test_support/userlibrary.py\n",
            "spark-2.4.3-bin-hadoop2.7/python/test_support/userlib-0.1.zip\n",
            "spark-2.4.3-bin-hadoop2.7/python/test_support/SimpleHTTPServer.py\n",
            "spark-2.4.3-bin-hadoop2.7/python/test_support/hello/\n",
            "spark-2.4.3-bin-hadoop2.7/python/test_support/hello/sub_hello/\n",
            "spark-2.4.3-bin-hadoop2.7/python/test_support/hello/sub_hello/sub_hello.txt\n",
            "spark-2.4.3-bin-hadoop2.7/python/test_support/hello/hello.txt\n",
            "spark-2.4.3-bin-hadoop2.7/python/test_support/sql/\n",
            "spark-2.4.3-bin-hadoop2.7/python/test_support/sql/people_array.json\n",
            "spark-2.4.3-bin-hadoop2.7/python/test_support/sql/text-test.txt\n",
            "spark-2.4.3-bin-hadoop2.7/python/test_support/sql/ages_newlines.csv\n",
            "spark-2.4.3-bin-hadoop2.7/python/test_support/sql/people.json\n",
            "spark-2.4.3-bin-hadoop2.7/python/test_support/sql/parquet_partitioned/\n",
            "spark-2.4.3-bin-hadoop2.7/python/test_support/sql/parquet_partitioned/year=2014/\n",
            "spark-2.4.3-bin-hadoop2.7/python/test_support/sql/parquet_partitioned/year=2014/month=9/\n",
            "spark-2.4.3-bin-hadoop2.7/python/test_support/sql/parquet_partitioned/year=2014/month=9/day=1/\n",
            "spark-2.4.3-bin-hadoop2.7/python/test_support/sql/parquet_partitioned/year=2014/month=9/day=1/part-r-00008.gz.parquet\n",
            "spark-2.4.3-bin-hadoop2.7/python/test_support/sql/parquet_partitioned/year=2014/month=9/day=1/.part-r-00008.gz.parquet.crc\n",
            "spark-2.4.3-bin-hadoop2.7/python/test_support/sql/parquet_partitioned/year=2015/\n",
            "spark-2.4.3-bin-hadoop2.7/python/test_support/sql/parquet_partitioned/year=2015/month=10/\n",
            "spark-2.4.3-bin-hadoop2.7/python/test_support/sql/parquet_partitioned/year=2015/month=10/day=26/\n",
            "spark-2.4.3-bin-hadoop2.7/python/test_support/sql/parquet_partitioned/year=2015/month=10/day=26/part-r-00005.gz.parquet\n",
            "spark-2.4.3-bin-hadoop2.7/python/test_support/sql/parquet_partitioned/year=2015/month=10/day=26/.part-r-00005.gz.parquet.crc\n",
            "spark-2.4.3-bin-hadoop2.7/python/test_support/sql/parquet_partitioned/year=2015/month=10/day=25/\n",
            "spark-2.4.3-bin-hadoop2.7/python/test_support/sql/parquet_partitioned/year=2015/month=10/day=25/.part-r-00002.gz.parquet.crc\n",
            "spark-2.4.3-bin-hadoop2.7/python/test_support/sql/parquet_partitioned/year=2015/month=10/day=25/part-r-00002.gz.parquet\n",
            "spark-2.4.3-bin-hadoop2.7/python/test_support/sql/parquet_partitioned/year=2015/month=10/day=25/part-r-00004.gz.parquet\n",
            "spark-2.4.3-bin-hadoop2.7/python/test_support/sql/parquet_partitioned/year=2015/month=10/day=25/.part-r-00004.gz.parquet.crc\n",
            "spark-2.4.3-bin-hadoop2.7/python/test_support/sql/parquet_partitioned/year=2015/month=9/\n",
            "spark-2.4.3-bin-hadoop2.7/python/test_support/sql/parquet_partitioned/year=2015/month=9/day=1/\n",
            "spark-2.4.3-bin-hadoop2.7/python/test_support/sql/parquet_partitioned/year=2015/month=9/day=1/.part-r-00007.gz.parquet.crc\n",
            "spark-2.4.3-bin-hadoop2.7/python/test_support/sql/parquet_partitioned/year=2015/month=9/day=1/part-r-00007.gz.parquet\n",
            "spark-2.4.3-bin-hadoop2.7/python/test_support/sql/parquet_partitioned/_common_metadata\n",
            "spark-2.4.3-bin-hadoop2.7/python/test_support/sql/parquet_partitioned/_metadata\n",
            "spark-2.4.3-bin-hadoop2.7/python/test_support/sql/parquet_partitioned/_SUCCESS\n",
            "spark-2.4.3-bin-hadoop2.7/python/test_support/sql/streaming/\n",
            "spark-2.4.3-bin-hadoop2.7/python/test_support/sql/streaming/text-test.txt\n",
            "spark-2.4.3-bin-hadoop2.7/python/test_support/sql/ages.csv\n",
            "spark-2.4.3-bin-hadoop2.7/python/test_support/sql/people1.json\n",
            "spark-2.4.3-bin-hadoop2.7/python/test_support/sql/orc_partitioned/\n",
            "spark-2.4.3-bin-hadoop2.7/python/test_support/sql/orc_partitioned/b=0/\n",
            "spark-2.4.3-bin-hadoop2.7/python/test_support/sql/orc_partitioned/b=0/c=0/\n",
            "spark-2.4.3-bin-hadoop2.7/python/test_support/sql/orc_partitioned/b=0/c=0/part-r-00000-829af031-b970-49d6-ad39-30460a0be2c8.orc\n",
            "spark-2.4.3-bin-hadoop2.7/python/test_support/sql/orc_partitioned/b=0/c=0/.part-r-00000-829af031-b970-49d6-ad39-30460a0be2c8.orc.crc\n",
            "spark-2.4.3-bin-hadoop2.7/python/test_support/sql/orc_partitioned/_SUCCESS\n",
            "spark-2.4.3-bin-hadoop2.7/python/test_support/sql/orc_partitioned/b=1/\n",
            "spark-2.4.3-bin-hadoop2.7/python/test_support/sql/orc_partitioned/b=1/c=1/\n",
            "spark-2.4.3-bin-hadoop2.7/python/test_support/sql/orc_partitioned/b=1/c=1/part-r-00000-829af031-b970-49d6-ad39-30460a0be2c8.orc\n",
            "spark-2.4.3-bin-hadoop2.7/python/test_support/sql/orc_partitioned/b=1/c=1/.part-r-00000-829af031-b970-49d6-ad39-30460a0be2c8.orc.crc\n",
            "spark-2.4.3-bin-hadoop2.7/python/test_support/sql/people_array_utf16le.json\n",
            "spark-2.4.3-bin-hadoop2.7/python/run-tests.py\n",
            "spark-2.4.3-bin-hadoop2.7/python/run-tests\n",
            "spark-2.4.3-bin-hadoop2.7/python/.coveragerc\n",
            "spark-2.4.3-bin-hadoop2.7/python/lib/\n",
            "spark-2.4.3-bin-hadoop2.7/python/lib/pyspark.zip\n",
            "spark-2.4.3-bin-hadoop2.7/python/lib/PY4J_LICENSE.txt\n",
            "spark-2.4.3-bin-hadoop2.7/python/lib/py4j-0.10.7-src.zip\n",
            "spark-2.4.3-bin-hadoop2.7/python/setup.py\n",
            "spark-2.4.3-bin-hadoop2.7/python/README.md\n",
            "spark-2.4.3-bin-hadoop2.7/python/dist/\n",
            "spark-2.4.3-bin-hadoop2.7/python/pylintrc\n",
            "spark-2.4.3-bin-hadoop2.7/conf/\n",
            "spark-2.4.3-bin-hadoop2.7/conf/fairscheduler.xml.template\n",
            "spark-2.4.3-bin-hadoop2.7/conf/spark-defaults.conf.template\n",
            "spark-2.4.3-bin-hadoop2.7/conf/docker.properties.template\n",
            "spark-2.4.3-bin-hadoop2.7/conf/log4j.properties.template\n",
            "spark-2.4.3-bin-hadoop2.7/conf/metrics.properties.template\n",
            "spark-2.4.3-bin-hadoop2.7/conf/slaves.template\n",
            "spark-2.4.3-bin-hadoop2.7/conf/spark-env.sh.template\n",
            "spark-2.4.3-bin-hadoop2.7/licenses/\n",
            "spark-2.4.3-bin-hadoop2.7/licenses/LICENSE-heapq.txt\n",
            "spark-2.4.3-bin-hadoop2.7/licenses/LICENSE-paranamer.txt\n",
            "spark-2.4.3-bin-hadoop2.7/licenses/LICENSE-graphlib-dot.txt\n",
            "spark-2.4.3-bin-hadoop2.7/licenses/LICENSE-minlog.txt\n",
            "spark-2.4.3-bin-hadoop2.7/licenses/LICENSE-slf4j.txt\n",
            "spark-2.4.3-bin-hadoop2.7/licenses/LICENSE-jquery.txt\n",
            "spark-2.4.3-bin-hadoop2.7/licenses/LICENSE-scopt.txt\n",
            "spark-2.4.3-bin-hadoop2.7/licenses/LICENSE-vis.txt\n",
            "spark-2.4.3-bin-hadoop2.7/licenses/LICENSE-sbt-launch-lib.txt\n",
            "spark-2.4.3-bin-hadoop2.7/licenses/LICENSE-spire.txt\n",
            "spark-2.4.3-bin-hadoop2.7/licenses/LICENSE-matchMedia-polyfill.txt\n",
            "spark-2.4.3-bin-hadoop2.7/licenses/LICENSE-kryo.txt\n",
            "spark-2.4.3-bin-hadoop2.7/licenses/LICENSE-mustache.txt\n",
            "spark-2.4.3-bin-hadoop2.7/licenses/LICENSE-arpack.txt\n",
            "spark-2.4.3-bin-hadoop2.7/licenses/LICENSE-scala.txt\n",
            "spark-2.4.3-bin-hadoop2.7/licenses/LICENSE-javassist.html\n",
            "spark-2.4.3-bin-hadoop2.7/licenses/LICENSE-json-formatter.txt\n",
            "spark-2.4.3-bin-hadoop2.7/licenses/LICENSE-jodd.txt\n",
            "spark-2.4.3-bin-hadoop2.7/licenses/LICENSE-automaton.txt\n",
            "spark-2.4.3-bin-hadoop2.7/licenses/LICENSE-janino.txt\n",
            "spark-2.4.3-bin-hadoop2.7/licenses/LICENSE-dagre-d3.txt\n",
            "spark-2.4.3-bin-hadoop2.7/licenses/LICENSE-sorttable.js.txt\n",
            "spark-2.4.3-bin-hadoop2.7/licenses/LICENSE-py4j.txt\n",
            "spark-2.4.3-bin-hadoop2.7/licenses/LICENSE-d3.min.js.txt\n",
            "spark-2.4.3-bin-hadoop2.7/licenses/LICENSE-respond.txt\n",
            "spark-2.4.3-bin-hadoop2.7/licenses/LICENSE-CC0.txt\n",
            "spark-2.4.3-bin-hadoop2.7/licenses/LICENSE-zstd.txt\n",
            "spark-2.4.3-bin-hadoop2.7/licenses/LICENSE-cloudpickle.txt\n",
            "spark-2.4.3-bin-hadoop2.7/licenses/LICENSE-pmml-model.txt\n",
            "spark-2.4.3-bin-hadoop2.7/licenses/LICENSE-pyrolite.txt\n",
            "spark-2.4.3-bin-hadoop2.7/licenses/LICENSE-netlib.txt\n",
            "spark-2.4.3-bin-hadoop2.7/licenses/LICENSE-AnchorJS.txt\n",
            "spark-2.4.3-bin-hadoop2.7/licenses/LICENSE-modernizr.txt\n",
            "spark-2.4.3-bin-hadoop2.7/licenses/LICENSE-machinist.txt\n",
            "spark-2.4.3-bin-hadoop2.7/licenses/LICENSE-javolution.txt\n",
            "spark-2.4.3-bin-hadoop2.7/licenses/LICENSE-xmlenc.txt\n",
            "spark-2.4.3-bin-hadoop2.7/licenses/LICENSE-join.txt\n",
            "spark-2.4.3-bin-hadoop2.7/licenses/LICENSE-jline.txt\n",
            "spark-2.4.3-bin-hadoop2.7/licenses/LICENSE-antlr.txt\n",
            "spark-2.4.3-bin-hadoop2.7/licenses/LICENSE-jtransforms.html\n",
            "spark-2.4.3-bin-hadoop2.7/licenses/LICENSE-leveldbjni.txt\n",
            "spark-2.4.3-bin-hadoop2.7/licenses/LICENSE-protobuf.txt\n",
            "spark-2.4.3-bin-hadoop2.7/licenses/LICENSE-bootstrap.txt\n",
            "spark-2.4.3-bin-hadoop2.7/licenses/LICENSE-zstd-jni.txt\n",
            "spark-2.4.3-bin-hadoop2.7/licenses/LICENSE-datatables.txt\n",
            "spark-2.4.3-bin-hadoop2.7/licenses/LICENSE-f2j.txt\n",
            "spark-2.4.3-bin-hadoop2.7/licenses/LICENSE-reflectasm.txt\n",
            "spark-2.4.3-bin-hadoop2.7/sbin/\n",
            "spark-2.4.3-bin-hadoop2.7/sbin/start-slave.sh\n",
            "spark-2.4.3-bin-hadoop2.7/sbin/stop-history-server.sh\n",
            "spark-2.4.3-bin-hadoop2.7/sbin/stop-slave.sh\n",
            "spark-2.4.3-bin-hadoop2.7/sbin/stop-mesos-dispatcher.sh\n",
            "spark-2.4.3-bin-hadoop2.7/sbin/start-all.sh\n",
            "spark-2.4.3-bin-hadoop2.7/sbin/spark-daemon.sh\n",
            "spark-2.4.3-bin-hadoop2.7/sbin/start-master.sh\n",
            "spark-2.4.3-bin-hadoop2.7/sbin/spark-daemons.sh\n",
            "spark-2.4.3-bin-hadoop2.7/sbin/spark-config.sh\n",
            "spark-2.4.3-bin-hadoop2.7/sbin/start-slaves.sh\n",
            "spark-2.4.3-bin-hadoop2.7/sbin/start-mesos-shuffle-service.sh\n",
            "spark-2.4.3-bin-hadoop2.7/sbin/start-history-server.sh\n",
            "spark-2.4.3-bin-hadoop2.7/sbin/start-shuffle-service.sh\n",
            "spark-2.4.3-bin-hadoop2.7/sbin/slaves.sh\n",
            "spark-2.4.3-bin-hadoop2.7/sbin/stop-slaves.sh\n",
            "spark-2.4.3-bin-hadoop2.7/sbin/stop-thriftserver.sh\n",
            "spark-2.4.3-bin-hadoop2.7/sbin/stop-master.sh\n",
            "spark-2.4.3-bin-hadoop2.7/sbin/stop-shuffle-service.sh\n",
            "spark-2.4.3-bin-hadoop2.7/sbin/start-mesos-dispatcher.sh\n",
            "spark-2.4.3-bin-hadoop2.7/sbin/stop-mesos-shuffle-service.sh\n",
            "spark-2.4.3-bin-hadoop2.7/sbin/start-thriftserver.sh\n",
            "spark-2.4.3-bin-hadoop2.7/sbin/stop-all.sh\n",
            "spark-2.4.3-bin-hadoop2.7/kubernetes/\n",
            "spark-2.4.3-bin-hadoop2.7/kubernetes/tests/\n",
            "spark-2.4.3-bin-hadoop2.7/kubernetes/tests/pyfiles.py\n",
            "spark-2.4.3-bin-hadoop2.7/kubernetes/tests/worker_memory_check.py\n",
            "spark-2.4.3-bin-hadoop2.7/kubernetes/tests/py_container_checks.py\n",
            "spark-2.4.3-bin-hadoop2.7/kubernetes/dockerfiles/\n",
            "spark-2.4.3-bin-hadoop2.7/kubernetes/dockerfiles/spark/\n",
            "spark-2.4.3-bin-hadoop2.7/kubernetes/dockerfiles/spark/Dockerfile\n",
            "spark-2.4.3-bin-hadoop2.7/kubernetes/dockerfiles/spark/bindings/\n",
            "spark-2.4.3-bin-hadoop2.7/kubernetes/dockerfiles/spark/bindings/python/\n",
            "spark-2.4.3-bin-hadoop2.7/kubernetes/dockerfiles/spark/bindings/python/Dockerfile\n",
            "spark-2.4.3-bin-hadoop2.7/kubernetes/dockerfiles/spark/bindings/R/\n",
            "spark-2.4.3-bin-hadoop2.7/kubernetes/dockerfiles/spark/bindings/R/Dockerfile\n",
            "spark-2.4.3-bin-hadoop2.7/kubernetes/dockerfiles/spark/entrypoint.sh\n",
            "spark-2.4.3-bin-hadoop2.7/jars/\n",
            "spark-2.4.3-bin-hadoop2.7/jars/commons-lang3-3.5.jar\n",
            "spark-2.4.3-bin-hadoop2.7/jars/spark-kubernetes_2.11-2.4.3.jar\n",
            "spark-2.4.3-bin-hadoop2.7/jars/arrow-format-0.10.0.jar\n",
            "spark-2.4.3-bin-hadoop2.7/jars/spark-streaming_2.11-2.4.3.jar\n",
            "spark-2.4.3-bin-hadoop2.7/jars/hadoop-yarn-common-2.7.3.jar\n",
            "spark-2.4.3-bin-hadoop2.7/jars/hadoop-mapreduce-client-jobclient-2.7.3.jar\n",
            "spark-2.4.3-bin-hadoop2.7/jars/json4s-jackson_2.11-3.5.3.jar\n",
            "spark-2.4.3-bin-hadoop2.7/jars/jersey-container-servlet-2.22.2.jar\n",
            "spark-2.4.3-bin-hadoop2.7/jars/hive-jdbc-1.2.1.spark2.jar\n",
            "spark-2.4.3-bin-hadoop2.7/jars/spark-network-common_2.11-2.4.3.jar\n",
            "spark-2.4.3-bin-hadoop2.7/jars/curator-framework-2.7.1.jar\n",
            "spark-2.4.3-bin-hadoop2.7/jars/pyrolite-4.13.jar\n",
            "spark-2.4.3-bin-hadoop2.7/jars/bonecp-0.8.0.RELEASE.jar\n",
            "spark-2.4.3-bin-hadoop2.7/jars/hppc-0.7.2.jar\n",
            "spark-2.4.3-bin-hadoop2.7/jars/spark-network-shuffle_2.11-2.4.3.jar\n",
            "spark-2.4.3-bin-hadoop2.7/jars/metrics-jvm-3.1.5.jar\n",
            "spark-2.4.3-bin-hadoop2.7/jars/jersey-guava-2.22.2.jar\n",
            "spark-2.4.3-bin-hadoop2.7/jars/guice-3.0.jar\n",
            "spark-2.4.3-bin-hadoop2.7/jars/super-csv-2.2.0.jar\n",
            "spark-2.4.3-bin-hadoop2.7/jars/jsp-api-2.1.jar\n",
            "spark-2.4.3-bin-hadoop2.7/jars/commons-net-3.1.jar\n",
            "spark-2.4.3-bin-hadoop2.7/jars/validation-api-1.1.0.Final.jar\n",
            "spark-2.4.3-bin-hadoop2.7/jars/json4s-ast_2.11-3.5.3.jar\n",
            "spark-2.4.3-bin-hadoop2.7/jars/spark-repl_2.11-2.4.3.jar\n",
            "spark-2.4.3-bin-hadoop2.7/jars/spark-sketch_2.11-2.4.3.jar\n",
            "spark-2.4.3-bin-hadoop2.7/jars/javax.inject-1.jar\n",
            "spark-2.4.3-bin-hadoop2.7/jars/hadoop-mapreduce-client-shuffle-2.7.3.jar\n",
            "spark-2.4.3-bin-hadoop2.7/jars/orc-mapreduce-1.5.5-nohive.jar\n",
            "spark-2.4.3-bin-hadoop2.7/jars/avro-ipc-1.8.2.jar\n",
            "spark-2.4.3-bin-hadoop2.7/jars/parquet-encoding-1.10.1.jar\n",
            "spark-2.4.3-bin-hadoop2.7/jars/jersey-container-servlet-core-2.22.2.jar\n",
            "spark-2.4.3-bin-hadoop2.7/jars/zjsonpatch-0.3.0.jar\n",
            "spark-2.4.3-bin-hadoop2.7/jars/scala-compiler-2.11.12.jar\n",
            "spark-2.4.3-bin-hadoop2.7/jars/curator-client-2.7.1.jar\n",
            "spark-2.4.3-bin-hadoop2.7/jars/jersey-media-jaxb-2.22.2.jar\n",
            "spark-2.4.3-bin-hadoop2.7/jars/avro-mapred-1.8.2-hadoop2.jar\n",
            "spark-2.4.3-bin-hadoop2.7/jars/antlr4-runtime-4.7.jar\n",
            "spark-2.4.3-bin-hadoop2.7/jars/spark-sql_2.11-2.4.3.jar\n",
            "spark-2.4.3-bin-hadoop2.7/jars/jackson-module-jaxb-annotations-2.6.7.jar\n",
            "spark-2.4.3-bin-hadoop2.7/jars/okhttp-3.8.1.jar\n",
            "spark-2.4.3-bin-hadoop2.7/jars/spark-core_2.11-2.4.3.jar\n",
            "spark-2.4.3-bin-hadoop2.7/jars/leveldbjni-all-1.8.jar\n",
            "spark-2.4.3-bin-hadoop2.7/jars/jackson-mapper-asl-1.9.13.jar\n",
            "spark-2.4.3-bin-hadoop2.7/jars/ST4-4.0.4.jar\n",
            "spark-2.4.3-bin-hadoop2.7/jars/eigenbase-properties-1.1.5.jar\n",
            "spark-2.4.3-bin-hadoop2.7/jars/jackson-jaxrs-1.9.13.jar\n",
            "spark-2.4.3-bin-hadoop2.7/jars/spark-yarn_2.11-2.4.3.jar\n",
            "spark-2.4.3-bin-hadoop2.7/jars/jackson-annotations-2.6.7.jar\n",
            "spark-2.4.3-bin-hadoop2.7/jars/jackson-module-paranamer-2.7.9.jar\n",
            "spark-2.4.3-bin-hadoop2.7/jars/jdo-api-3.0.1.jar\n",
            "spark-2.4.3-bin-hadoop2.7/jars/spark-launcher_2.11-2.4.3.jar\n",
            "spark-2.4.3-bin-hadoop2.7/jars/jersey-server-2.22.2.jar\n",
            "spark-2.4.3-bin-hadoop2.7/jars/scala-parser-combinators_2.11-1.1.0.jar\n",
            "spark-2.4.3-bin-hadoop2.7/jars/arrow-memory-0.10.0.jar\n",
            "spark-2.4.3-bin-hadoop2.7/jars/hk2-utils-2.4.0-b34.jar\n",
            "spark-2.4.3-bin-hadoop2.7/jars/joda-time-2.9.3.jar\n",
            "spark-2.4.3-bin-hadoop2.7/jars/commons-crypto-1.0.0.jar\n",
            "spark-2.4.3-bin-hadoop2.7/jars/aopalliance-1.0.jar\n",
            "spark-2.4.3-bin-hadoop2.7/jars/logging-interceptor-3.12.0.jar\n",
            "spark-2.4.3-bin-hadoop2.7/jars/parquet-common-1.10.1.jar\n",
            "spark-2.4.3-bin-hadoop2.7/jars/spark-mllib-local_2.11-2.4.3.jar\n",
            "spark-2.4.3-bin-hadoop2.7/jars/log4j-1.2.17.jar\n",
            "spark-2.4.3-bin-hadoop2.7/jars/commons-pool-1.5.4.jar\n",
            "spark-2.4.3-bin-hadoop2.7/jars/xz-1.5.jar\n",
            "spark-2.4.3-bin-hadoop2.7/jars/hk2-locator-2.4.0-b34.jar\n",
            "spark-2.4.3-bin-hadoop2.7/jars/libthrift-0.9.3.jar\n",
            "spark-2.4.3-bin-hadoop2.7/jars/chill-java-0.9.3.jar\n",
            "spark-2.4.3-bin-hadoop2.7/jars/opencsv-2.3.jar\n",
            "spark-2.4.3-bin-hadoop2.7/jars/lz4-java-1.4.0.jar\n",
            "spark-2.4.3-bin-hadoop2.7/jars/kubernetes-model-common-4.1.2.jar\n",
            "spark-2.4.3-bin-hadoop2.7/jars/slf4j-log4j12-1.7.16.jar\n",
            "spark-2.4.3-bin-hadoop2.7/jars/calcite-core-1.2.0-incubating.jar\n",
            "spark-2.4.3-bin-hadoop2.7/jars/breeze_2.11-0.13.2.jar\n",
            "spark-2.4.3-bin-hadoop2.7/jars/parquet-hadoop-bundle-1.6.0.jar\n",
            "spark-2.4.3-bin-hadoop2.7/jars/javax.inject-2.4.0-b34.jar\n",
            "spark-2.4.3-bin-hadoop2.7/jars/metrics-json-3.1.5.jar\n",
            "spark-2.4.3-bin-hadoop2.7/jars/parquet-column-1.10.1.jar\n",
            "spark-2.4.3-bin-hadoop2.7/jars/aopalliance-repackaged-2.4.0-b34.jar\n",
            "spark-2.4.3-bin-hadoop2.7/jars/jcl-over-slf4j-1.7.16.jar\n",
            "spark-2.4.3-bin-hadoop2.7/jars/antlr-runtime-3.4.jar\n",
            "spark-2.4.3-bin-hadoop2.7/jars/parquet-jackson-1.10.1.jar\n",
            "spark-2.4.3-bin-hadoop2.7/jars/httpcore-4.4.10.jar\n",
            "spark-2.4.3-bin-hadoop2.7/jars/metrics-graphite-3.1.5.jar\n",
            "spark-2.4.3-bin-hadoop2.7/jars/netty-3.9.9.Final.jar\n",
            "spark-2.4.3-bin-hadoop2.7/jars/guava-14.0.1.jar\n",
            "spark-2.4.3-bin-hadoop2.7/jars/RoaringBitmap-0.7.45.jar\n",
            "spark-2.4.3-bin-hadoop2.7/jars/jaxb-api-2.2.2.jar\n",
            "spark-2.4.3-bin-hadoop2.7/jars/datanucleus-core-3.2.10.jar\n",
            "spark-2.4.3-bin-hadoop2.7/jars/compress-lzf-1.0.3.jar\n",
            "spark-2.4.3-bin-hadoop2.7/jars/antlr-2.7.7.jar\n",
            "spark-2.4.3-bin-hadoop2.7/jars/jersey-common-2.22.2.jar\n",
            "spark-2.4.3-bin-hadoop2.7/jars/hadoop-yarn-client-2.7.3.jar\n",
            "spark-2.4.3-bin-hadoop2.7/jars/parquet-hadoop-1.10.1.jar\n",
            "spark-2.4.3-bin-hadoop2.7/jars/commons-lang-2.6.jar\n",
            "spark-2.4.3-bin-hadoop2.7/jars/datanucleus-api-jdo-3.2.6.jar\n",
            "spark-2.4.3-bin-hadoop2.7/jars/orc-shims-1.5.5.jar\n",
            "spark-2.4.3-bin-hadoop2.7/jars/commons-digester-1.8.jar\n",
            "spark-2.4.3-bin-hadoop2.7/jars/hadoop-annotations-2.7.3.jar\n",
            "spark-2.4.3-bin-hadoop2.7/jars/jtransforms-2.4.0.jar\n",
            "spark-2.4.3-bin-hadoop2.7/jars/jodd-core-3.5.2.jar\n",
            "spark-2.4.3-bin-hadoop2.7/jars/spark-hive_2.11-2.4.3.jar\n",
            "spark-2.4.3-bin-hadoop2.7/jars/snakeyaml-1.15.jar\n",
            "spark-2.4.3-bin-hadoop2.7/jars/kubernetes-client-4.1.2.jar\n",
            "spark-2.4.3-bin-hadoop2.7/jars/commons-cli-1.2.jar\n",
            "spark-2.4.3-bin-hadoop2.7/jars/snappy-java-1.1.7.3.jar\n",
            "spark-2.4.3-bin-hadoop2.7/jars/parquet-format-2.4.0.jar\n",
            "spark-2.4.3-bin-hadoop2.7/jars/commons-configuration-1.6.jar\n",
            "spark-2.4.3-bin-hadoop2.7/jars/jpam-1.1.jar\n",
            "spark-2.4.3-bin-hadoop2.7/jars/kryo-shaded-4.0.2.jar\n",
            "spark-2.4.3-bin-hadoop2.7/jars/zookeeper-3.4.6.jar\n",
            "spark-2.4.3-bin-hadoop2.7/jars/javax.ws.rs-api-2.0.1.jar\n",
            "spark-2.4.3-bin-hadoop2.7/jars/jackson-core-asl-1.9.13.jar\n",
            "spark-2.4.3-bin-hadoop2.7/jars/hadoop-mapreduce-client-core-2.7.3.jar\n",
            "spark-2.4.3-bin-hadoop2.7/jars/json4s-scalap_2.11-3.5.3.jar\n",
            "spark-2.4.3-bin-hadoop2.7/jars/avro-1.8.2.jar\n",
            "spark-2.4.3-bin-hadoop2.7/jars/hadoop-yarn-api-2.7.3.jar\n",
            "spark-2.4.3-bin-hadoop2.7/jars/api-asn1-api-1.0.0-M20.jar\n",
            "spark-2.4.3-bin-hadoop2.7/jars/paranamer-2.8.jar\n",
            "spark-2.4.3-bin-hadoop2.7/jars/janino-3.0.9.jar\n",
            "spark-2.4.3-bin-hadoop2.7/jars/stringtemplate-3.2.1.jar\n",
            "spark-2.4.3-bin-hadoop2.7/jars/apacheds-i18n-2.0.0-M15.jar\n",
            "spark-2.4.3-bin-hadoop2.7/jars/apache-log4j-extras-1.2.17.jar\n",
            "spark-2.4.3-bin-hadoop2.7/jars/xbean-asm6-shaded-4.8.jar\n",
            "spark-2.4.3-bin-hadoop2.7/jars/curator-recipes-2.7.1.jar\n",
            "spark-2.4.3-bin-hadoop2.7/jars/oro-2.0.8.jar\n",
            "spark-2.4.3-bin-hadoop2.7/jars/javax.annotation-api-1.2.jar\n",
            "spark-2.4.3-bin-hadoop2.7/jars/chill_2.11-0.9.3.jar\n",
            "spark-2.4.3-bin-hadoop2.7/jars/hive-exec-1.2.1.spark2.jar\n",
            "spark-2.4.3-bin-hadoop2.7/jars/hadoop-common-2.7.3.jar\n",
            "spark-2.4.3-bin-hadoop2.7/jars/commons-dbcp-1.4.jar\n",
            "spark-2.4.3-bin-hadoop2.7/jars/mesos-1.4.0-shaded-protobuf.jar\n",
            "spark-2.4.3-bin-hadoop2.7/jars/okio-1.13.0.jar\n",
            "spark-2.4.3-bin-hadoop2.7/jars/jackson-databind-2.6.7.1.jar\n",
            "spark-2.4.3-bin-hadoop2.7/jars/spark-mesos_2.11-2.4.3.jar\n",
            "spark-2.4.3-bin-hadoop2.7/jars/netty-all-4.1.17.Final.jar\n",
            "spark-2.4.3-bin-hadoop2.7/jars/commons-compiler-3.0.9.jar\n",
            "spark-2.4.3-bin-hadoop2.7/jars/commons-math3-3.4.1.jar\n",
            "spark-2.4.3-bin-hadoop2.7/jars/httpclient-4.5.6.jar\n",
            "spark-2.4.3-bin-hadoop2.7/jars/jul-to-slf4j-1.7.16.jar\n",
            "spark-2.4.3-bin-hadoop2.7/jars/stax-api-1.0-2.jar\n",
            "spark-2.4.3-bin-hadoop2.7/jars/core-1.1.2.jar\n",
            "spark-2.4.3-bin-hadoop2.7/jars/commons-codec-1.10.jar\n",
            "spark-2.4.3-bin-hadoop2.7/jars/spark-kvstore_2.11-2.4.3.jar\n",
            "spark-2.4.3-bin-hadoop2.7/jars/spark-catalyst_2.11-2.4.3.jar\n",
            "spark-2.4.3-bin-hadoop2.7/jars/gson-2.2.4.jar\n",
            "spark-2.4.3-bin-hadoop2.7/jars/spark-tags_2.11-2.4.3-tests.jar\n",
            "spark-2.4.3-bin-hadoop2.7/jars/zstd-jni-1.3.2-2.jar\n",
            "spark-2.4.3-bin-hadoop2.7/jars/javolution-5.5.1.jar\n",
            "spark-2.4.3-bin-hadoop2.7/jars/univocity-parsers-2.7.3.jar\n",
            "spark-2.4.3-bin-hadoop2.7/jars/apacheds-kerberos-codec-2.0.0-M15.jar\n",
            "spark-2.4.3-bin-hadoop2.7/jars/hadoop-yarn-server-common-2.7.3.jar\n",
            "spark-2.4.3-bin-hadoop2.7/jars/libfb303-0.9.3.jar\n",
            "spark-2.4.3-bin-hadoop2.7/jars/jersey-client-2.22.2.jar\n",
            "spark-2.4.3-bin-hadoop2.7/jars/xercesImpl-2.9.1.jar\n",
            "spark-2.4.3-bin-hadoop2.7/jars/commons-collections-3.2.2.jar\n",
            "spark-2.4.3-bin-hadoop2.7/jars/machinist_2.11-0.6.1.jar\n",
            "spark-2.4.3-bin-hadoop2.7/jars/shims-0.7.45.jar\n",
            "spark-2.4.3-bin-hadoop2.7/jars/htrace-core-3.1.0-incubating.jar\n",
            "spark-2.4.3-bin-hadoop2.7/jars/spark-graphx_2.11-2.4.3.jar\n",
            "spark-2.4.3-bin-hadoop2.7/jars/jta-1.1.jar\n",
            "spark-2.4.3-bin-hadoop2.7/jars/osgi-resource-locator-1.0.1.jar\n",
            "spark-2.4.3-bin-hadoop2.7/jars/datanucleus-rdbms-3.2.9.jar\n",
            "spark-2.4.3-bin-hadoop2.7/jars/spark-unsafe_2.11-2.4.3.jar\n",
            "spark-2.4.3-bin-hadoop2.7/jars/javassist-3.18.1-GA.jar\n",
            "spark-2.4.3-bin-hadoop2.7/jars/spire-macros_2.11-0.13.0.jar\n",
            "spark-2.4.3-bin-hadoop2.7/jars/spark-mllib_2.11-2.4.3.jar\n",
            "spark-2.4.3-bin-hadoop2.7/jars/calcite-linq4j-1.2.0-incubating.jar\n",
            "spark-2.4.3-bin-hadoop2.7/jars/jline-2.14.6.jar\n",
            "spark-2.4.3-bin-hadoop2.7/jars/hadoop-client-2.7.3.jar\n",
            "spark-2.4.3-bin-hadoop2.7/jars/hive-metastore-1.2.1.spark2.jar\n",
            "spark-2.4.3-bin-hadoop2.7/jars/hadoop-yarn-server-web-proxy-2.7.3.jar\n",
            "spark-2.4.3-bin-hadoop2.7/jars/spire_2.11-0.13.0.jar\n",
            "spark-2.4.3-bin-hadoop2.7/jars/jackson-core-2.6.7.jar\n",
            "spark-2.4.3-bin-hadoop2.7/jars/api-util-1.0.0-M20.jar\n",
            "spark-2.4.3-bin-hadoop2.7/jars/commons-httpclient-3.1.jar\n",
            "spark-2.4.3-bin-hadoop2.7/jars/aircompressor-0.10.jar\n",
            "spark-2.4.3-bin-hadoop2.7/jars/guice-servlet-3.0.jar\n",
            "spark-2.4.3-bin-hadoop2.7/jars/scala-xml_2.11-1.0.5.jar\n",
            "spark-2.4.3-bin-hadoop2.7/jars/hadoop-mapreduce-client-common-2.7.3.jar\n",
            "spark-2.4.3-bin-hadoop2.7/jars/commons-beanutils-1.9.3.jar\n",
            "spark-2.4.3-bin-hadoop2.7/jars/protobuf-java-2.5.0.jar\n",
            "spark-2.4.3-bin-hadoop2.7/jars/hive-beeline-1.2.1.spark2.jar\n",
            "spark-2.4.3-bin-hadoop2.7/jars/stream-2.7.0.jar\n",
            "spark-2.4.3-bin-hadoop2.7/jars/commons-compress-1.8.1.jar\n",
            "spark-2.4.3-bin-hadoop2.7/jars/macro-compat_2.11-1.1.1.jar\n",
            "spark-2.4.3-bin-hadoop2.7/jars/activation-1.1.1.jar\n",
            "spark-2.4.3-bin-hadoop2.7/jars/breeze-macros_2.11-0.13.2.jar\n",
            "spark-2.4.3-bin-hadoop2.7/jars/derby-10.12.1.1.jar\n",
            "spark-2.4.3-bin-hadoop2.7/jars/shapeless_2.11-2.3.2.jar\n",
            "spark-2.4.3-bin-hadoop2.7/jars/spark-tags_2.11-2.4.3.jar\n",
            "spark-2.4.3-bin-hadoop2.7/jars/minlog-1.3.0.jar\n",
            "spark-2.4.3-bin-hadoop2.7/jars/commons-logging-1.1.3.jar\n",
            "spark-2.4.3-bin-hadoop2.7/jars/kubernetes-model-4.1.2.jar\n",
            "spark-2.4.3-bin-hadoop2.7/jars/spark-hive-thriftserver_2.11-2.4.3.jar\n",
            "spark-2.4.3-bin-hadoop2.7/jars/hive-cli-1.2.1.spark2.jar\n",
            "spark-2.4.3-bin-hadoop2.7/jars/metrics-core-3.1.5.jar\n",
            "spark-2.4.3-bin-hadoop2.7/jars/jackson-module-scala_2.11-2.6.7.1.jar\n",
            "spark-2.4.3-bin-hadoop2.7/jars/automaton-1.11-8.jar\n",
            "spark-2.4.3-bin-hadoop2.7/jars/objenesis-2.5.1.jar\n",
            "spark-2.4.3-bin-hadoop2.7/jars/json4s-core_2.11-3.5.3.jar\n",
            "spark-2.4.3-bin-hadoop2.7/jars/py4j-0.10.7.jar\n",
            "spark-2.4.3-bin-hadoop2.7/jars/jetty-6.1.26.jar\n",
            "spark-2.4.3-bin-hadoop2.7/jars/slf4j-api-1.7.16.jar\n",
            "spark-2.4.3-bin-hadoop2.7/jars/orc-core-1.5.5-nohive.jar\n",
            "spark-2.4.3-bin-hadoop2.7/jars/commons-io-2.4.jar\n",
            "spark-2.4.3-bin-hadoop2.7/jars/jackson-xc-1.9.13.jar\n",
            "spark-2.4.3-bin-hadoop2.7/jars/scala-reflect-2.11.12.jar\n",
            "spark-2.4.3-bin-hadoop2.7/jars/xmlenc-0.52.jar\n",
            "spark-2.4.3-bin-hadoop2.7/jars/jetty-util-6.1.26.jar\n",
            "spark-2.4.3-bin-hadoop2.7/jars/ivy-2.4.0.jar\n",
            "spark-2.4.3-bin-hadoop2.7/jars/scala-library-2.11.12.jar\n",
            "spark-2.4.3-bin-hadoop2.7/jars/snappy-0.2.jar\n",
            "spark-2.4.3-bin-hadoop2.7/jars/jsr305-1.3.9.jar\n",
            "spark-2.4.3-bin-hadoop2.7/jars/arpack_combined_all-0.1.jar\n",
            "spark-2.4.3-bin-hadoop2.7/jars/stax-api-1.0.1.jar\n",
            "spark-2.4.3-bin-hadoop2.7/jars/hadoop-mapreduce-client-app-2.7.3.jar\n",
            "spark-2.4.3-bin-hadoop2.7/jars/hk2-api-2.4.0-b34.jar\n",
            "spark-2.4.3-bin-hadoop2.7/jars/jackson-dataformat-yaml-2.6.7.jar\n",
            "spark-2.4.3-bin-hadoop2.7/jars/arrow-vector-0.10.0.jar\n",
            "spark-2.4.3-bin-hadoop2.7/jars/flatbuffers-1.2.0-3f79e055.jar\n",
            "spark-2.4.3-bin-hadoop2.7/jars/calcite-avatica-1.2.0-incubating.jar\n",
            "spark-2.4.3-bin-hadoop2.7/jars/generex-1.0.1.jar\n",
            "spark-2.4.3-bin-hadoop2.7/jars/JavaEWAH-0.3.2.jar\n",
            "spark-2.4.3-bin-hadoop2.7/jars/javax.servlet-api-3.1.0.jar\n",
            "spark-2.4.3-bin-hadoop2.7/jars/hadoop-hdfs-2.7.3.jar\n",
            "spark-2.4.3-bin-hadoop2.7/jars/hadoop-auth-2.7.3.jar\n",
            "spark-2.4.3-bin-hadoop2.7/bin/\n",
            "spark-2.4.3-bin-hadoop2.7/bin/beeline\n",
            "spark-2.4.3-bin-hadoop2.7/bin/pyspark\n",
            "spark-2.4.3-bin-hadoop2.7/bin/pyspark.cmd\n",
            "spark-2.4.3-bin-hadoop2.7/bin/find-spark-home\n",
            "spark-2.4.3-bin-hadoop2.7/bin/spark-submit2.cmd\n",
            "spark-2.4.3-bin-hadoop2.7/bin/spark-class.cmd\n",
            "spark-2.4.3-bin-hadoop2.7/bin/run-example\n",
            "spark-2.4.3-bin-hadoop2.7/bin/sparkR2.cmd\n",
            "spark-2.4.3-bin-hadoop2.7/bin/spark-sql2.cmd\n",
            "spark-2.4.3-bin-hadoop2.7/bin/spark-submit.cmd\n",
            "spark-2.4.3-bin-hadoop2.7/bin/run-example.cmd\n",
            "spark-2.4.3-bin-hadoop2.7/bin/sparkR.cmd\n",
            "spark-2.4.3-bin-hadoop2.7/bin/spark-class2.cmd\n",
            "spark-2.4.3-bin-hadoop2.7/bin/spark-submit\n",
            "spark-2.4.3-bin-hadoop2.7/bin/sparkR\n",
            "spark-2.4.3-bin-hadoop2.7/bin/spark-sql.cmd\n",
            "spark-2.4.3-bin-hadoop2.7/bin/load-spark-env.cmd\n",
            "spark-2.4.3-bin-hadoop2.7/bin/pyspark2.cmd\n",
            "spark-2.4.3-bin-hadoop2.7/bin/docker-image-tool.sh\n",
            "spark-2.4.3-bin-hadoop2.7/bin/spark-shell\n",
            "spark-2.4.3-bin-hadoop2.7/bin/find-spark-home.cmd\n",
            "spark-2.4.3-bin-hadoop2.7/bin/spark-shell.cmd\n",
            "spark-2.4.3-bin-hadoop2.7/bin/load-spark-env.sh\n",
            "spark-2.4.3-bin-hadoop2.7/bin/spark-sql\n",
            "spark-2.4.3-bin-hadoop2.7/bin/spark-shell2.cmd\n",
            "spark-2.4.3-bin-hadoop2.7/bin/spark-class\n",
            "spark-2.4.3-bin-hadoop2.7/bin/beeline.cmd\n",
            "spark-2.4.3-bin-hadoop2.7/RELEASE\n",
            "spark-2.4.3-bin-hadoop2.7/R/\n",
            "spark-2.4.3-bin-hadoop2.7/R/lib/\n",
            "spark-2.4.3-bin-hadoop2.7/R/lib/SparkR/\n",
            "spark-2.4.3-bin-hadoop2.7/R/lib/SparkR/NAMESPACE\n",
            "spark-2.4.3-bin-hadoop2.7/R/lib/SparkR/DESCRIPTION\n",
            "spark-2.4.3-bin-hadoop2.7/R/lib/SparkR/R/\n",
            "spark-2.4.3-bin-hadoop2.7/R/lib/SparkR/R/SparkR.rdb\n",
            "spark-2.4.3-bin-hadoop2.7/R/lib/SparkR/R/SparkR\n",
            "spark-2.4.3-bin-hadoop2.7/R/lib/SparkR/R/SparkR.rdx\n",
            "spark-2.4.3-bin-hadoop2.7/R/lib/SparkR/html/\n",
            "spark-2.4.3-bin-hadoop2.7/R/lib/SparkR/html/R.css\n",
            "spark-2.4.3-bin-hadoop2.7/R/lib/SparkR/html/00Index.html\n",
            "spark-2.4.3-bin-hadoop2.7/R/lib/SparkR/help/\n",
            "spark-2.4.3-bin-hadoop2.7/R/lib/SparkR/help/AnIndex\n",
            "spark-2.4.3-bin-hadoop2.7/R/lib/SparkR/help/SparkR.rdb\n",
            "spark-2.4.3-bin-hadoop2.7/R/lib/SparkR/help/aliases.rds\n",
            "spark-2.4.3-bin-hadoop2.7/R/lib/SparkR/help/SparkR.rdx\n",
            "spark-2.4.3-bin-hadoop2.7/R/lib/SparkR/help/paths.rds\n",
            "spark-2.4.3-bin-hadoop2.7/R/lib/SparkR/profile/\n",
            "spark-2.4.3-bin-hadoop2.7/R/lib/SparkR/profile/general.R\n",
            "spark-2.4.3-bin-hadoop2.7/R/lib/SparkR/profile/shell.R\n",
            "spark-2.4.3-bin-hadoop2.7/R/lib/SparkR/tests/\n",
            "spark-2.4.3-bin-hadoop2.7/R/lib/SparkR/tests/testthat/\n",
            "spark-2.4.3-bin-hadoop2.7/R/lib/SparkR/tests/testthat/test_basic.R\n",
            "spark-2.4.3-bin-hadoop2.7/R/lib/SparkR/Meta/\n",
            "spark-2.4.3-bin-hadoop2.7/R/lib/SparkR/Meta/package.rds\n",
            "spark-2.4.3-bin-hadoop2.7/R/lib/SparkR/Meta/Rd.rds\n",
            "spark-2.4.3-bin-hadoop2.7/R/lib/SparkR/Meta/nsInfo.rds\n",
            "spark-2.4.3-bin-hadoop2.7/R/lib/SparkR/Meta/hsearch.rds\n",
            "spark-2.4.3-bin-hadoop2.7/R/lib/SparkR/Meta/features.rds\n",
            "spark-2.4.3-bin-hadoop2.7/R/lib/SparkR/Meta/links.rds\n",
            "spark-2.4.3-bin-hadoop2.7/R/lib/SparkR/worker/\n",
            "spark-2.4.3-bin-hadoop2.7/R/lib/SparkR/worker/daemon.R\n",
            "spark-2.4.3-bin-hadoop2.7/R/lib/SparkR/worker/worker.R\n",
            "spark-2.4.3-bin-hadoop2.7/R/lib/SparkR/INDEX\n",
            "spark-2.4.3-bin-hadoop2.7/R/lib/sparkr.zip\n",
            "spark-2.4.3-bin-hadoop2.7/yarn/\n",
            "spark-2.4.3-bin-hadoop2.7/yarn/spark-2.4.3-yarn-shuffle.jar\n",
            "spark-2.4.3-bin-hadoop2.7/examples/\n",
            "spark-2.4.3-bin-hadoop2.7/examples/jars/\n",
            "spark-2.4.3-bin-hadoop2.7/examples/jars/spark-examples_2.11-2.4.3.jar\n",
            "spark-2.4.3-bin-hadoop2.7/examples/jars/scopt_2.11-3.7.0.jar\n",
            "spark-2.4.3-bin-hadoop2.7/examples/src/\n",
            "spark-2.4.3-bin-hadoop2.7/examples/src/main/\n",
            "spark-2.4.3-bin-hadoop2.7/examples/src/main/python/\n",
            "spark-2.4.3-bin-hadoop2.7/examples/src/main/python/als.py\n",
            "spark-2.4.3-bin-hadoop2.7/examples/src/main/python/pagerank.py\n",
            "spark-2.4.3-bin-hadoop2.7/examples/src/main/python/mllib/\n",
            "spark-2.4.3-bin-hadoop2.7/examples/src/main/python/mllib/ranking_metrics_example.py\n",
            "spark-2.4.3-bin-hadoop2.7/examples/src/main/python/mllib/gradient_boosting_regression_example.py\n",
            "spark-2.4.3-bin-hadoop2.7/examples/src/main/python/mllib/decision_tree_classification_example.py\n",
            "spark-2.4.3-bin-hadoop2.7/examples/src/main/python/mllib/tf_idf_example.py\n",
            "spark-2.4.3-bin-hadoop2.7/examples/src/main/python/mllib/decision_tree_regression_example.py\n",
            "spark-2.4.3-bin-hadoop2.7/examples/src/main/python/mllib/k_means_example.py\n",
            "spark-2.4.3-bin-hadoop2.7/examples/src/main/python/mllib/streaming_linear_regression_example.py\n",
            "spark-2.4.3-bin-hadoop2.7/examples/src/main/python/mllib/random_forest_regression_example.py\n",
            "spark-2.4.3-bin-hadoop2.7/examples/src/main/python/mllib/random_forest_classification_example.py\n",
            "spark-2.4.3-bin-hadoop2.7/examples/src/main/python/mllib/pca_rowmatrix_example.py\n",
            "spark-2.4.3-bin-hadoop2.7/examples/src/main/python/mllib/elementwise_product_example.py\n",
            "spark-2.4.3-bin-hadoop2.7/examples/src/main/python/mllib/stratified_sampling_example.py\n",
            "spark-2.4.3-bin-hadoop2.7/examples/src/main/python/mllib/multi_class_metrics_example.py\n",
            "spark-2.4.3-bin-hadoop2.7/examples/src/main/python/mllib/gradient_boosting_classification_example.py\n",
            "spark-2.4.3-bin-hadoop2.7/examples/src/main/python/mllib/fpgrowth_example.py\n",
            "spark-2.4.3-bin-hadoop2.7/examples/src/main/python/mllib/binary_classification_metrics_example.py\n",
            "spark-2.4.3-bin-hadoop2.7/examples/src/main/python/mllib/sampled_rdds.py\n",
            "spark-2.4.3-bin-hadoop2.7/examples/src/main/python/mllib/logistic_regression_with_lbfgs_example.py\n",
            "spark-2.4.3-bin-hadoop2.7/examples/src/main/python/mllib/kernel_density_estimation_example.py\n",
            "spark-2.4.3-bin-hadoop2.7/examples/src/main/python/mllib/logistic_regression.py\n",
            "spark-2.4.3-bin-hadoop2.7/examples/src/main/python/mllib/hypothesis_testing_example.py\n",
            "spark-2.4.3-bin-hadoop2.7/examples/src/main/python/mllib/svm_with_sgd_example.py\n",
            "spark-2.4.3-bin-hadoop2.7/examples/src/main/python/mllib/streaming_k_means_example.py\n",
            "spark-2.4.3-bin-hadoop2.7/examples/src/main/python/mllib/correlations.py\n",
            "spark-2.4.3-bin-hadoop2.7/examples/src/main/python/mllib/correlations_example.py\n",
            "spark-2.4.3-bin-hadoop2.7/examples/src/main/python/mllib/regression_metrics_example.py\n",
            "spark-2.4.3-bin-hadoop2.7/examples/src/main/python/mllib/naive_bayes_example.py\n",
            "spark-2.4.3-bin-hadoop2.7/examples/src/main/python/mllib/gaussian_mixture_model.py\n",
            "spark-2.4.3-bin-hadoop2.7/examples/src/main/python/mllib/hypothesis_testing_kolmogorov_smirnov_test_example.py\n",
            "spark-2.4.3-bin-hadoop2.7/examples/src/main/python/mllib/word2vec.py\n",
            "spark-2.4.3-bin-hadoop2.7/examples/src/main/python/mllib/latent_dirichlet_allocation_example.py\n",
            "spark-2.4.3-bin-hadoop2.7/examples/src/main/python/mllib/recommendation_example.py\n",
            "spark-2.4.3-bin-hadoop2.7/examples/src/main/python/mllib/linear_regression_with_sgd_example.py\n",
            "spark-2.4.3-bin-hadoop2.7/examples/src/main/python/mllib/random_rdd_generation.py\n",
            "spark-2.4.3-bin-hadoop2.7/examples/src/main/python/mllib/bisecting_k_means_example.py\n",
            "spark-2.4.3-bin-hadoop2.7/examples/src/main/python/mllib/summary_statistics_example.py\n",
            "spark-2.4.3-bin-hadoop2.7/examples/src/main/python/mllib/word2vec_example.py\n",
            "spark-2.4.3-bin-hadoop2.7/examples/src/main/python/mllib/kmeans.py\n",
            "spark-2.4.3-bin-hadoop2.7/examples/src/main/python/mllib/standard_scaler_example.py\n",
            "spark-2.4.3-bin-hadoop2.7/examples/src/main/python/mllib/multi_label_metrics_example.py\n",
            "spark-2.4.3-bin-hadoop2.7/examples/src/main/python/mllib/svd_example.py\n",
            "spark-2.4.3-bin-hadoop2.7/examples/src/main/python/mllib/normalizer_example.py\n",
            "spark-2.4.3-bin-hadoop2.7/examples/src/main/python/mllib/power_iteration_clustering_example.py\n",
            "spark-2.4.3-bin-hadoop2.7/examples/src/main/python/mllib/isotonic_regression_example.py\n",
            "spark-2.4.3-bin-hadoop2.7/examples/src/main/python/mllib/gaussian_mixture_example.py\n",
            "spark-2.4.3-bin-hadoop2.7/examples/src/main/python/parquet_inputformat.py\n",
            "spark-2.4.3-bin-hadoop2.7/examples/src/main/python/logistic_regression.py\n",
            "spark-2.4.3-bin-hadoop2.7/examples/src/main/python/ml/\n",
            "spark-2.4.3-bin-hadoop2.7/examples/src/main/python/ml/rformula_example.py\n",
            "spark-2.4.3-bin-hadoop2.7/examples/src/main/python/ml/min_max_scaler_example.py\n",
            "spark-2.4.3-bin-hadoop2.7/examples/src/main/python/ml/min_hash_lsh_example.py\n",
            "spark-2.4.3-bin-hadoop2.7/examples/src/main/python/ml/gradient_boosted_tree_regressor_example.py\n",
            "spark-2.4.3-bin-hadoop2.7/examples/src/main/python/ml/decision_tree_classification_example.py\n",
            "spark-2.4.3-bin-hadoop2.7/examples/src/main/python/ml/logistic_regression_with_elastic_net.py\n",
            "spark-2.4.3-bin-hadoop2.7/examples/src/main/python/ml/tf_idf_example.py\n",
            "spark-2.4.3-bin-hadoop2.7/examples/src/main/python/ml/decision_tree_regression_example.py\n",
            "spark-2.4.3-bin-hadoop2.7/examples/src/main/python/ml/vector_slicer_example.py\n",
            "spark-2.4.3-bin-hadoop2.7/examples/src/main/python/ml/als_example.py\n",
            "spark-2.4.3-bin-hadoop2.7/examples/src/main/python/ml/cross_validator.py\n",
            "spark-2.4.3-bin-hadoop2.7/examples/src/main/python/ml/onehot_encoder_estimator_example.py\n",
            "spark-2.4.3-bin-hadoop2.7/examples/src/main/python/ml/gradient_boosted_tree_classifier_example.py\n",
            "spark-2.4.3-bin-hadoop2.7/examples/src/main/python/ml/generalized_linear_regression_example.py\n",
            "spark-2.4.3-bin-hadoop2.7/examples/src/main/python/ml/random_forest_regressor_example.py\n",
            "spark-2.4.3-bin-hadoop2.7/examples/src/main/python/ml/chisq_selector_example.py\n",
            "spark-2.4.3-bin-hadoop2.7/examples/src/main/python/ml/max_abs_scaler_example.py\n",
            "spark-2.4.3-bin-hadoop2.7/examples/src/main/python/ml/n_gram_example.py\n",
            "spark-2.4.3-bin-hadoop2.7/examples/src/main/python/ml/elementwise_product_example.py\n",
            "spark-2.4.3-bin-hadoop2.7/examples/src/main/python/ml/binarizer_example.py\n",
            "spark-2.4.3-bin-hadoop2.7/examples/src/main/python/ml/bucketed_random_projection_lsh_example.py\n",
            "spark-2.4.3-bin-hadoop2.7/examples/src/main/python/ml/imputer_example.py\n",
            "spark-2.4.3-bin-hadoop2.7/examples/src/main/python/ml/correlation_example.py\n",
            "spark-2.4.3-bin-hadoop2.7/examples/src/main/python/ml/count_vectorizer_example.py\n",
            "spark-2.4.3-bin-hadoop2.7/examples/src/main/python/ml/multilayer_perceptron_classification.py\n",
            "spark-2.4.3-bin-hadoop2.7/examples/src/main/python/ml/stopwords_remover_example.py\n",
            "spark-2.4.3-bin-hadoop2.7/examples/src/main/python/ml/fpgrowth_example.py\n",
            "spark-2.4.3-bin-hadoop2.7/examples/src/main/python/ml/kmeans_example.py\n",
            "spark-2.4.3-bin-hadoop2.7/examples/src/main/python/ml/chi_square_test_example.py\n",
            "spark-2.4.3-bin-hadoop2.7/examples/src/main/python/ml/aft_survival_regression.py\n",
            "spark-2.4.3-bin-hadoop2.7/examples/src/main/python/ml/dct_example.py\n",
            "spark-2.4.3-bin-hadoop2.7/examples/src/main/python/ml/dataframe_example.py\n",
            "spark-2.4.3-bin-hadoop2.7/examples/src/main/python/ml/pca_example.py\n",
            "spark-2.4.3-bin-hadoop2.7/examples/src/main/python/ml/pipeline_example.py\n",
            "spark-2.4.3-bin-hadoop2.7/examples/src/main/python/ml/polynomial_expansion_example.py\n",
            "spark-2.4.3-bin-hadoop2.7/examples/src/main/python/ml/tokenizer_example.py\n",
            "spark-2.4.3-bin-hadoop2.7/examples/src/main/python/ml/estimator_transformer_param_example.py\n",
            "spark-2.4.3-bin-hadoop2.7/examples/src/main/python/ml/naive_bayes_example.py\n",
            "spark-2.4.3-bin-hadoop2.7/examples/src/main/python/ml/string_indexer_example.py\n",
            "spark-2.4.3-bin-hadoop2.7/examples/src/main/python/ml/summarizer_example.py\n",
            "spark-2.4.3-bin-hadoop2.7/examples/src/main/python/ml/bucketizer_example.py\n",
            "spark-2.4.3-bin-hadoop2.7/examples/src/main/python/ml/vector_assembler_example.py\n",
            "spark-2.4.3-bin-hadoop2.7/examples/src/main/python/ml/sql_transformer.py\n",
            "spark-2.4.3-bin-hadoop2.7/examples/src/main/python/ml/feature_hasher_example.py\n",
            "spark-2.4.3-bin-hadoop2.7/examples/src/main/python/ml/vector_indexer_example.py\n",
            "spark-2.4.3-bin-hadoop2.7/examples/src/main/python/ml/train_validation_split.py\n",
            "spark-2.4.3-bin-hadoop2.7/examples/src/main/python/ml/vector_size_hint_example.py\n",
            "spark-2.4.3-bin-hadoop2.7/examples/src/main/python/ml/one_vs_rest_example.py\n",
            "spark-2.4.3-bin-hadoop2.7/examples/src/main/python/ml/logistic_regression_summary_example.py\n",
            "spark-2.4.3-bin-hadoop2.7/examples/src/main/python/ml/bisecting_k_means_example.py\n",
            "spark-2.4.3-bin-hadoop2.7/examples/src/main/python/ml/multiclass_logistic_regression_with_elastic_net.py\n",
            "spark-2.4.3-bin-hadoop2.7/examples/src/main/python/ml/index_to_string_example.py\n",
            "spark-2.4.3-bin-hadoop2.7/examples/src/main/python/ml/linear_regression_with_elastic_net.py\n",
            "spark-2.4.3-bin-hadoop2.7/examples/src/main/python/ml/linearsvc.py\n",
            "spark-2.4.3-bin-hadoop2.7/examples/src/main/python/ml/word2vec_example.py\n",
            "spark-2.4.3-bin-hadoop2.7/examples/src/main/python/ml/standard_scaler_example.py\n",
            "spark-2.4.3-bin-hadoop2.7/examples/src/main/python/ml/prefixspan_example.py\n",
            "spark-2.4.3-bin-hadoop2.7/examples/src/main/python/ml/lda_example.py\n",
            "spark-2.4.3-bin-hadoop2.7/examples/src/main/python/ml/normalizer_example.py\n",
            "spark-2.4.3-bin-hadoop2.7/examples/src/main/python/ml/quantile_discretizer_example.py\n",
            "spark-2.4.3-bin-hadoop2.7/examples/src/main/python/ml/random_forest_classifier_example.py\n",
            "spark-2.4.3-bin-hadoop2.7/examples/src/main/python/ml/isotonic_regression_example.py\n",
            "spark-2.4.3-bin-hadoop2.7/examples/src/main/python/ml/gaussian_mixture_example.py\n",
            "spark-2.4.3-bin-hadoop2.7/examples/src/main/python/transitive_closure.py\n",
            "spark-2.4.3-bin-hadoop2.7/examples/src/main/python/streaming/\n",
            "spark-2.4.3-bin-hadoop2.7/examples/src/main/python/streaming/flume_wordcount.py\n",
            "spark-2.4.3-bin-hadoop2.7/examples/src/main/python/streaming/queue_stream.py\n",
            "spark-2.4.3-bin-hadoop2.7/examples/src/main/python/streaming/recoverable_network_wordcount.py\n",
            "spark-2.4.3-bin-hadoop2.7/examples/src/main/python/streaming/kafka_wordcount.py\n",
            "spark-2.4.3-bin-hadoop2.7/examples/src/main/python/streaming/hdfs_wordcount.py\n",
            "spark-2.4.3-bin-hadoop2.7/examples/src/main/python/streaming/direct_kafka_wordcount.py\n",
            "spark-2.4.3-bin-hadoop2.7/examples/src/main/python/streaming/stateful_network_wordcount.py\n",
            "spark-2.4.3-bin-hadoop2.7/examples/src/main/python/streaming/network_wordcount.py\n",
            "spark-2.4.3-bin-hadoop2.7/examples/src/main/python/streaming/sql_network_wordcount.py\n",
            "spark-2.4.3-bin-hadoop2.7/examples/src/main/python/streaming/network_wordjoinsentiments.py\n",
            "spark-2.4.3-bin-hadoop2.7/examples/src/main/python/wordcount.py\n",
            "spark-2.4.3-bin-hadoop2.7/examples/src/main/python/status_api_demo.py\n",
            "spark-2.4.3-bin-hadoop2.7/examples/src/main/python/sql/\n",
            "spark-2.4.3-bin-hadoop2.7/examples/src/main/python/sql/basic.py\n",
            "spark-2.4.3-bin-hadoop2.7/examples/src/main/python/sql/arrow.py\n",
            "spark-2.4.3-bin-hadoop2.7/examples/src/main/python/sql/streaming/\n",
            "spark-2.4.3-bin-hadoop2.7/examples/src/main/python/sql/streaming/structured_kafka_wordcount.py\n",
            "spark-2.4.3-bin-hadoop2.7/examples/src/main/python/sql/streaming/structured_network_wordcount_windowed.py\n",
            "spark-2.4.3-bin-hadoop2.7/examples/src/main/python/sql/streaming/structured_network_wordcount.py\n",
            "spark-2.4.3-bin-hadoop2.7/examples/src/main/python/sql/datasource.py\n",
            "spark-2.4.3-bin-hadoop2.7/examples/src/main/python/sql/hive.py\n",
            "spark-2.4.3-bin-hadoop2.7/examples/src/main/python/kmeans.py\n",
            "spark-2.4.3-bin-hadoop2.7/examples/src/main/python/sort.py\n",
            "spark-2.4.3-bin-hadoop2.7/examples/src/main/python/pi.py\n",
            "spark-2.4.3-bin-hadoop2.7/examples/src/main/python/avro_inputformat.py\n",
            "spark-2.4.3-bin-hadoop2.7/examples/src/main/scala/\n",
            "spark-2.4.3-bin-hadoop2.7/examples/src/main/scala/org/\n",
            "spark-2.4.3-bin-hadoop2.7/examples/src/main/scala/org/apache/\n",
            "spark-2.4.3-bin-hadoop2.7/examples/src/main/scala/org/apache/spark/\n",
            "spark-2.4.3-bin-hadoop2.7/examples/src/main/scala/org/apache/spark/examples/\n",
            "spark-2.4.3-bin-hadoop2.7/examples/src/main/scala/org/apache/spark/examples/LocalPi.scala\n",
            "spark-2.4.3-bin-hadoop2.7/examples/src/main/scala/org/apache/spark/examples/SparkTC.scala\n",
            "spark-2.4.3-bin-hadoop2.7/examples/src/main/scala/org/apache/spark/examples/pythonconverters/\n",
            "spark-2.4.3-bin-hadoop2.7/examples/src/main/scala/org/apache/spark/examples/pythonconverters/AvroConverters.scala\n",
            "spark-2.4.3-bin-hadoop2.7/examples/src/main/scala/org/apache/spark/examples/HdfsTest.scala\n",
            "spark-2.4.3-bin-hadoop2.7/examples/src/main/scala/org/apache/spark/examples/SparkHdfsLR.scala\n",
            "spark-2.4.3-bin-hadoop2.7/examples/src/main/scala/org/apache/spark/examples/graphx/\n",
            "spark-2.4.3-bin-hadoop2.7/examples/src/main/scala/org/apache/spark/examples/graphx/LiveJournalPageRank.scala\n",
            "spark-2.4.3-bin-hadoop2.7/examples/src/main/scala/org/apache/spark/examples/graphx/Analytics.scala\n",
            "spark-2.4.3-bin-hadoop2.7/examples/src/main/scala/org/apache/spark/examples/graphx/ConnectedComponentsExample.scala\n",
            "spark-2.4.3-bin-hadoop2.7/examples/src/main/scala/org/apache/spark/examples/graphx/TriangleCountingExample.scala\n",
            "spark-2.4.3-bin-hadoop2.7/examples/src/main/scala/org/apache/spark/examples/graphx/SynthBenchmark.scala\n",
            "spark-2.4.3-bin-hadoop2.7/examples/src/main/scala/org/apache/spark/examples/graphx/ComprehensiveExample.scala\n",
            "spark-2.4.3-bin-hadoop2.7/examples/src/main/scala/org/apache/spark/examples/graphx/SSSPExample.scala\n",
            "spark-2.4.3-bin-hadoop2.7/examples/src/main/scala/org/apache/spark/examples/graphx/AggregateMessagesExample.scala\n",
            "spark-2.4.3-bin-hadoop2.7/examples/src/main/scala/org/apache/spark/examples/graphx/PageRankExample.scala\n",
            "spark-2.4.3-bin-hadoop2.7/examples/src/main/scala/org/apache/spark/examples/SparkPageRank.scala\n",
            "spark-2.4.3-bin-hadoop2.7/examples/src/main/scala/org/apache/spark/examples/LocalKMeans.scala\n",
            "spark-2.4.3-bin-hadoop2.7/examples/src/main/scala/org/apache/spark/examples/BroadcastTest.scala\n",
            "spark-2.4.3-bin-hadoop2.7/examples/src/main/scala/org/apache/spark/examples/SparkLR.scala\n",
            "spark-2.4.3-bin-hadoop2.7/examples/src/main/scala/org/apache/spark/examples/mllib/\n",
            "spark-2.4.3-bin-hadoop2.7/examples/src/main/scala/org/apache/spark/examples/mllib/StreamingTestExample.scala\n",
            "spark-2.4.3-bin-hadoop2.7/examples/src/main/scala/org/apache/spark/examples/mllib/StreamingLinearRegressionExample.scala\n",
            "spark-2.4.3-bin-hadoop2.7/examples/src/main/scala/org/apache/spark/examples/mllib/LatentDirichletAllocationExample.scala\n",
            "spark-2.4.3-bin-hadoop2.7/examples/src/main/scala/org/apache/spark/examples/mllib/StandardScalerExample.scala\n",
            "spark-2.4.3-bin-hadoop2.7/examples/src/main/scala/org/apache/spark/examples/mllib/GaussianMixtureExample.scala\n",
            "spark-2.4.3-bin-hadoop2.7/examples/src/main/scala/org/apache/spark/examples/mllib/ElementwiseProductExample.scala\n",
            "spark-2.4.3-bin-hadoop2.7/examples/src/main/scala/org/apache/spark/examples/mllib/LBFGSExample.scala\n",
            "spark-2.4.3-bin-hadoop2.7/examples/src/main/scala/org/apache/spark/examples/mllib/SampledRDDs.scala\n",
            "spark-2.4.3-bin-hadoop2.7/examples/src/main/scala/org/apache/spark/examples/mllib/GradientBoostedTreesRunner.scala\n",
            "spark-2.4.3-bin-hadoop2.7/examples/src/main/scala/org/apache/spark/examples/mllib/TallSkinnyPCA.scala\n",
            "spark-2.4.3-bin-hadoop2.7/examples/src/main/scala/org/apache/spark/examples/mllib/DecisionTreeRunner.scala\n",
            "spark-2.4.3-bin-hadoop2.7/examples/src/main/scala/org/apache/spark/examples/mllib/GradientBoostingClassificationExample.scala\n",
            "spark-2.4.3-bin-hadoop2.7/examples/src/main/scala/org/apache/spark/examples/mllib/PrefixSpanExample.scala\n",
            "spark-2.4.3-bin-hadoop2.7/examples/src/main/scala/org/apache/spark/examples/mllib/Correlations.scala\n",
            "spark-2.4.3-bin-hadoop2.7/examples/src/main/scala/org/apache/spark/examples/mllib/SimpleFPGrowth.scala\n",
            "spark-2.4.3-bin-hadoop2.7/examples/src/main/scala/org/apache/spark/examples/mllib/Word2VecExample.scala\n",
            "spark-2.4.3-bin-hadoop2.7/examples/src/main/scala/org/apache/spark/examples/mllib/RankingMetricsExample.scala\n",
            "spark-2.4.3-bin-hadoop2.7/examples/src/main/scala/org/apache/spark/examples/mllib/NaiveBayesExample.scala\n",
            "spark-2.4.3-bin-hadoop2.7/examples/src/main/scala/org/apache/spark/examples/mllib/IsotonicRegressionExample.scala\n",
            "spark-2.4.3-bin-hadoop2.7/examples/src/main/scala/org/apache/spark/examples/mllib/LinearRegression.scala\n",
            "spark-2.4.3-bin-hadoop2.7/examples/src/main/scala/org/apache/spark/examples/mllib/MultivariateSummarizer.scala\n",
            "spark-2.4.3-bin-hadoop2.7/examples/src/main/scala/org/apache/spark/examples/mllib/TallSkinnySVD.scala\n",
            "spark-2.4.3-bin-hadoop2.7/examples/src/main/scala/org/apache/spark/examples/mllib/FPGrowthExample.scala\n",
            "spark-2.4.3-bin-hadoop2.7/examples/src/main/scala/org/apache/spark/examples/mllib/SVMWithSGDExample.scala\n",
            "spark-2.4.3-bin-hadoop2.7/examples/src/main/scala/org/apache/spark/examples/mllib/RecommendationExample.scala\n",
            "spark-2.4.3-bin-hadoop2.7/examples/src/main/scala/org/apache/spark/examples/mllib/PCAOnSourceVectorExample.scala\n",
            "spark-2.4.3-bin-hadoop2.7/examples/src/main/scala/org/apache/spark/examples/mllib/MovieLensALS.scala\n",
            "spark-2.4.3-bin-hadoop2.7/examples/src/main/scala/org/apache/spark/examples/mllib/DecisionTreeClassificationExample.scala\n",
            "spark-2.4.3-bin-hadoop2.7/examples/src/main/scala/org/apache/spark/examples/mllib/KMeansExample.scala\n",
            "spark-2.4.3-bin-hadoop2.7/examples/src/main/scala/org/apache/spark/examples/mllib/PMMLModelExportExample.scala\n",
            "spark-2.4.3-bin-hadoop2.7/examples/src/main/scala/org/apache/spark/examples/mllib/LogisticRegressionWithLBFGSExample.scala\n",
            "spark-2.4.3-bin-hadoop2.7/examples/src/main/scala/org/apache/spark/examples/mllib/StratifiedSamplingExample.scala\n",
            "spark-2.4.3-bin-hadoop2.7/examples/src/main/scala/org/apache/spark/examples/mllib/CosineSimilarity.scala\n",
            "spark-2.4.3-bin-hadoop2.7/examples/src/main/scala/org/apache/spark/examples/mllib/GradientBoostingRegressionExample.scala\n",
            "spark-2.4.3-bin-hadoop2.7/examples/src/main/scala/org/apache/spark/examples/mllib/SummaryStatisticsExample.scala\n",
            "spark-2.4.3-bin-hadoop2.7/examples/src/main/scala/org/apache/spark/examples/mllib/StreamingLogisticRegression.scala\n",
            "spark-2.4.3-bin-hadoop2.7/examples/src/main/scala/org/apache/spark/examples/mllib/RegressionMetricsExample.scala\n",
            "spark-2.4.3-bin-hadoop2.7/examples/src/main/scala/org/apache/spark/examples/mllib/DenseKMeans.scala\n",
            "spark-2.4.3-bin-hadoop2.7/examples/src/main/scala/org/apache/spark/examples/mllib/HypothesisTestingKolmogorovSmirnovTestExample.scala\n",
            "spark-2.4.3-bin-hadoop2.7/examples/src/main/scala/org/apache/spark/examples/mllib/RandomForestClassificationExample.scala\n",
            "spark-2.4.3-bin-hadoop2.7/examples/src/main/scala/org/apache/spark/examples/mllib/LDAExample.scala\n",
            "spark-2.4.3-bin-hadoop2.7/examples/src/main/scala/org/apache/spark/examples/mllib/DecisionTreeRegressionExample.scala\n",
            "spark-2.4.3-bin-hadoop2.7/examples/src/main/scala/org/apache/spark/examples/mllib/PCAExample.scala\n",
            "spark-2.4.3-bin-hadoop2.7/examples/src/main/scala/org/apache/spark/examples/mllib/KernelDensityEstimationExample.scala\n",
            "spark-2.4.3-bin-hadoop2.7/examples/src/main/scala/org/apache/spark/examples/mllib/MulticlassMetricsExample.scala\n",
            "spark-2.4.3-bin-hadoop2.7/examples/src/main/scala/org/apache/spark/examples/mllib/BinaryClassification.scala\n",
            "spark-2.4.3-bin-hadoop2.7/examples/src/main/scala/org/apache/spark/examples/mllib/PowerIterationClusteringExample.scala\n",
            "spark-2.4.3-bin-hadoop2.7/examples/src/main/scala/org/apache/spark/examples/mllib/SVDExample.scala\n",
            "spark-2.4.3-bin-hadoop2.7/examples/src/main/scala/org/apache/spark/examples/mllib/StreamingKMeansExample.scala\n",
            "spark-2.4.3-bin-hadoop2.7/examples/src/main/scala/org/apache/spark/examples/mllib/BisectingKMeansExample.scala\n",
            "spark-2.4.3-bin-hadoop2.7/examples/src/main/scala/org/apache/spark/examples/mllib/MultiLabelMetricsExample.scala\n",
            "spark-2.4.3-bin-hadoop2.7/examples/src/main/scala/org/apache/spark/examples/mllib/BinaryClassificationMetricsExample.scala\n",
            "spark-2.4.3-bin-hadoop2.7/examples/src/main/scala/org/apache/spark/examples/mllib/RandomRDDGeneration.scala\n",
            "spark-2.4.3-bin-hadoop2.7/examples/src/main/scala/org/apache/spark/examples/mllib/AssociationRulesExample.scala\n",
            "spark-2.4.3-bin-hadoop2.7/examples/src/main/scala/org/apache/spark/examples/mllib/HypothesisTestingExample.scala\n",
            "spark-2.4.3-bin-hadoop2.7/examples/src/main/scala/org/apache/spark/examples/mllib/TFIDFExample.scala\n",
            "spark-2.4.3-bin-hadoop2.7/examples/src/main/scala/org/apache/spark/examples/mllib/LinearRegressionWithSGDExample.scala\n",
            "spark-2.4.3-bin-hadoop2.7/examples/src/main/scala/org/apache/spark/examples/mllib/PCAOnRowMatrixExample.scala\n",
            "spark-2.4.3-bin-hadoop2.7/examples/src/main/scala/org/apache/spark/examples/mllib/NormalizerExample.scala\n",
            "spark-2.4.3-bin-hadoop2.7/examples/src/main/scala/org/apache/spark/examples/mllib/SparseNaiveBayes.scala\n",
            "spark-2.4.3-bin-hadoop2.7/examples/src/main/scala/org/apache/spark/examples/mllib/ChiSqSelectorExample.scala\n",
            "spark-2.4.3-bin-hadoop2.7/examples/src/main/scala/org/apache/spark/examples/mllib/CorrelationsExample.scala\n",
            "spark-2.4.3-bin-hadoop2.7/examples/src/main/scala/org/apache/spark/examples/mllib/RandomForestRegressionExample.scala\n",
            "spark-2.4.3-bin-hadoop2.7/examples/src/main/scala/org/apache/spark/examples/mllib/AbstractParams.scala\n",
            "spark-2.4.3-bin-hadoop2.7/examples/src/main/scala/org/apache/spark/examples/SkewedGroupByTest.scala\n",
            "spark-2.4.3-bin-hadoop2.7/examples/src/main/scala/org/apache/spark/examples/SparkPi.scala\n",
            "spark-2.4.3-bin-hadoop2.7/examples/src/main/scala/org/apache/spark/examples/ml/\n",
            "spark-2.4.3-bin-hadoop2.7/examples/src/main/scala/org/apache/spark/examples/ml/OneVsRestExample.scala\n",
            "spark-2.4.3-bin-hadoop2.7/examples/src/main/scala/org/apache/spark/examples/ml/DecisionTreeExample.scala\n",
            "spark-2.4.3-bin-hadoop2.7/examples/src/main/scala/org/apache/spark/examples/ml/CountVectorizerExample.scala\n",
            "spark-2.4.3-bin-hadoop2.7/examples/src/main/scala/org/apache/spark/examples/ml/ImputerExample.scala\n",
            "spark-2.4.3-bin-hadoop2.7/examples/src/main/scala/org/apache/spark/examples/ml/StandardScalerExample.scala\n",
            "spark-2.4.3-bin-hadoop2.7/examples/src/main/scala/org/apache/spark/examples/ml/GaussianMixtureExample.scala\n",
            "spark-2.4.3-bin-hadoop2.7/examples/src/main/scala/org/apache/spark/examples/ml/BucketedRandomProjectionLSHExample.scala\n",
            "spark-2.4.3-bin-hadoop2.7/examples/src/main/scala/org/apache/spark/examples/ml/ElementwiseProductExample.scala\n",
            "spark-2.4.3-bin-hadoop2.7/examples/src/main/scala/org/apache/spark/examples/ml/CorrelationExample.scala\n",
            "spark-2.4.3-bin-hadoop2.7/examples/src/main/scala/org/apache/spark/examples/ml/ModelSelectionViaCrossValidationExample.scala\n",
            "spark-2.4.3-bin-hadoop2.7/examples/src/main/scala/org/apache/spark/examples/ml/ModelSelectionViaTrainValidationSplitExample.scala\n",
            "spark-2.4.3-bin-hadoop2.7/examples/src/main/scala/org/apache/spark/examples/ml/RandomForestRegressorExample.scala\n",
            "spark-2.4.3-bin-hadoop2.7/examples/src/main/scala/org/apache/spark/examples/ml/MultilayerPerceptronClassifierExample.scala\n",
            "spark-2.4.3-bin-hadoop2.7/examples/src/main/scala/org/apache/spark/examples/ml/LogisticRegressionWithElasticNetExample.scala\n",
            "spark-2.4.3-bin-hadoop2.7/examples/src/main/scala/org/apache/spark/examples/ml/LogisticRegressionExample.scala\n",
            "spark-2.4.3-bin-hadoop2.7/examples/src/main/scala/org/apache/spark/examples/ml/VectorSizeHintExample.scala\n",
            "spark-2.4.3-bin-hadoop2.7/examples/src/main/scala/org/apache/spark/examples/ml/SummarizerExample.scala\n",
            "spark-2.4.3-bin-hadoop2.7/examples/src/main/scala/org/apache/spark/examples/ml/PrefixSpanExample.scala\n",
            "spark-2.4.3-bin-hadoop2.7/examples/src/main/scala/org/apache/spark/examples/ml/ALSExample.scala\n",
            "spark-2.4.3-bin-hadoop2.7/examples/src/main/scala/org/apache/spark/examples/ml/MinMaxScalerExample.scala\n",
            "spark-2.4.3-bin-hadoop2.7/examples/src/main/scala/org/apache/spark/examples/ml/Word2VecExample.scala\n",
            "spark-2.4.3-bin-hadoop2.7/examples/src/main/scala/org/apache/spark/examples/ml/InteractionExample.scala\n",
            "spark-2.4.3-bin-hadoop2.7/examples/src/main/scala/org/apache/spark/examples/ml/NaiveBayesExample.scala\n",
            "spark-2.4.3-bin-hadoop2.7/examples/src/main/scala/org/apache/spark/examples/ml/IsotonicRegressionExample.scala\n",
            "spark-2.4.3-bin-hadoop2.7/examples/src/main/scala/org/apache/spark/examples/ml/StringIndexerExample.scala\n",
            "spark-2.4.3-bin-hadoop2.7/examples/src/main/scala/org/apache/spark/examples/ml/ChiSquareTestExample.scala\n",
            "spark-2.4.3-bin-hadoop2.7/examples/src/main/scala/org/apache/spark/examples/ml/FPGrowthExample.scala\n",
            "spark-2.4.3-bin-hadoop2.7/examples/src/main/scala/org/apache/spark/examples/ml/DecisionTreeClassificationExample.scala\n",
            "spark-2.4.3-bin-hadoop2.7/examples/src/main/scala/org/apache/spark/examples/ml/KMeansExample.scala\n",
            "spark-2.4.3-bin-hadoop2.7/examples/src/main/scala/org/apache/spark/examples/ml/StopWordsRemoverExample.scala\n",
            "spark-2.4.3-bin-hadoop2.7/examples/src/main/scala/org/apache/spark/examples/ml/FeatureHasherExample.scala\n",
            "spark-2.4.3-bin-hadoop2.7/examples/src/main/scala/org/apache/spark/examples/ml/LinearRegressionWithElasticNetExample.scala\n",
            "spark-2.4.3-bin-hadoop2.7/examples/src/main/scala/org/apache/spark/examples/ml/LogisticRegressionSummaryExample.scala\n",
            "spark-2.4.3-bin-hadoop2.7/examples/src/main/scala/org/apache/spark/examples/ml/IndexToStringExample.scala\n",
            "spark-2.4.3-bin-hadoop2.7/examples/src/main/scala/org/apache/spark/examples/ml/GradientBoostedTreeClassifierExample.scala\n",
            "spark-2.4.3-bin-hadoop2.7/examples/src/main/scala/org/apache/spark/examples/ml/GradientBoostedTreeRegressorExample.scala\n",
            "spark-2.4.3-bin-hadoop2.7/examples/src/main/scala/org/apache/spark/examples/ml/SQLTransformerExample.scala\n",
            "spark-2.4.3-bin-hadoop2.7/examples/src/main/scala/org/apache/spark/examples/ml/LDAExample.scala\n",
            "spark-2.4.3-bin-hadoop2.7/examples/src/main/scala/org/apache/spark/examples/ml/DecisionTreeRegressionExample.scala\n",
            "spark-2.4.3-bin-hadoop2.7/examples/src/main/scala/org/apache/spark/examples/ml/LinearSVCExample.scala\n",
            "spark-2.4.3-bin-hadoop2.7/examples/src/main/scala/org/apache/spark/examples/ml/TfIdfExample.scala\n",
            "spark-2.4.3-bin-hadoop2.7/examples/src/main/scala/org/apache/spark/examples/ml/PCAExample.scala\n",
            "spark-2.4.3-bin-hadoop2.7/examples/src/main/scala/org/apache/spark/examples/ml/MulticlassLogisticRegressionWithElasticNetExample.scala\n",
            "spark-2.4.3-bin-hadoop2.7/examples/src/main/scala/org/apache/spark/examples/ml/GeneralizedLinearRegressionExample.scala\n",
            "spark-2.4.3-bin-hadoop2.7/examples/src/main/scala/org/apache/spark/examples/ml/MinHashLSHExample.scala\n",
            "spark-2.4.3-bin-hadoop2.7/examples/src/main/scala/org/apache/spark/examples/ml/QuantileDiscretizerExample.scala\n",
            "spark-2.4.3-bin-hadoop2.7/examples/src/main/scala/org/apache/spark/examples/ml/DeveloperApiExample.scala\n",
            "spark-2.4.3-bin-hadoop2.7/examples/src/main/scala/org/apache/spark/examples/ml/VectorIndexerExample.scala\n",
            "spark-2.4.3-bin-hadoop2.7/examples/src/main/scala/org/apache/spark/examples/ml/LinearRegressionExample.scala\n",
            "spark-2.4.3-bin-hadoop2.7/examples/src/main/scala/org/apache/spark/examples/ml/DCTExample.scala\n",
            "spark-2.4.3-bin-hadoop2.7/examples/src/main/scala/org/apache/spark/examples/ml/PolynomialExpansionExample.scala\n",
            "spark-2.4.3-bin-hadoop2.7/examples/src/main/scala/org/apache/spark/examples/ml/OneHotEncoderEstimatorExample.scala\n",
            "spark-2.4.3-bin-hadoop2.7/examples/src/main/scala/org/apache/spark/examples/ml/BinarizerExample.scala\n",
            "spark-2.4.3-bin-hadoop2.7/examples/src/main/scala/org/apache/spark/examples/ml/PowerIterationClusteringExample.scala\n",
            "spark-2.4.3-bin-hadoop2.7/examples/src/main/scala/org/apache/spark/examples/ml/DataFrameExample.scala\n",
            "spark-2.4.3-bin-hadoop2.7/examples/src/main/scala/org/apache/spark/examples/ml/RandomForestExample.scala\n",
            "spark-2.4.3-bin-hadoop2.7/examples/src/main/scala/org/apache/spark/examples/ml/MaxAbsScalerExample.scala\n",
            "spark-2.4.3-bin-hadoop2.7/examples/src/main/scala/org/apache/spark/examples/ml/RFormulaExample.scala\n",
            "spark-2.4.3-bin-hadoop2.7/examples/src/main/scala/org/apache/spark/examples/ml/TokenizerExample.scala\n",
            "spark-2.4.3-bin-hadoop2.7/examples/src/main/scala/org/apache/spark/examples/ml/VectorSlicerExample.scala\n",
            "spark-2.4.3-bin-hadoop2.7/examples/src/main/scala/org/apache/spark/examples/ml/RandomForestClassifierExample.scala\n",
            "spark-2.4.3-bin-hadoop2.7/examples/src/main/scala/org/apache/spark/examples/ml/NGramExample.scala\n",
            "spark-2.4.3-bin-hadoop2.7/examples/src/main/scala/org/apache/spark/examples/ml/BisectingKMeansExample.scala\n",
            "spark-2.4.3-bin-hadoop2.7/examples/src/main/scala/org/apache/spark/examples/ml/PipelineExample.scala\n",
            "spark-2.4.3-bin-hadoop2.7/examples/src/main/scala/org/apache/spark/examples/ml/VectorAssemblerExample.scala\n",
            "spark-2.4.3-bin-hadoop2.7/examples/src/main/scala/org/apache/spark/examples/ml/AFTSurvivalRegressionExample.scala\n",
            "spark-2.4.3-bin-hadoop2.7/examples/src/main/scala/org/apache/spark/examples/ml/BucketizerExample.scala\n",
            "spark-2.4.3-bin-hadoop2.7/examples/src/main/scala/org/apache/spark/examples/ml/UnaryTransformerExample.scala\n",
            "spark-2.4.3-bin-hadoop2.7/examples/src/main/scala/org/apache/spark/examples/ml/GBTExample.scala\n",
            "spark-2.4.3-bin-hadoop2.7/examples/src/main/scala/org/apache/spark/examples/ml/NormalizerExample.scala\n",
            "spark-2.4.3-bin-hadoop2.7/examples/src/main/scala/org/apache/spark/examples/ml/EstimatorTransformerParamExample.scala\n",
            "spark-2.4.3-bin-hadoop2.7/examples/src/main/scala/org/apache/spark/examples/ml/ChiSqSelectorExample.scala\n",
            "spark-2.4.3-bin-hadoop2.7/examples/src/main/scala/org/apache/spark/examples/streaming/\n",
            "spark-2.4.3-bin-hadoop2.7/examples/src/main/scala/org/apache/spark/examples/streaming/CustomReceiver.scala\n",
            "spark-2.4.3-bin-hadoop2.7/examples/src/main/scala/org/apache/spark/examples/streaming/SqlNetworkWordCount.scala\n",
            "spark-2.4.3-bin-hadoop2.7/examples/src/main/scala/org/apache/spark/examples/streaming/RawNetworkGrep.scala\n",
            "spark-2.4.3-bin-hadoop2.7/examples/src/main/scala/org/apache/spark/examples/streaming/StatefulNetworkWordCount.scala\n",
            "spark-2.4.3-bin-hadoop2.7/examples/src/main/scala/org/apache/spark/examples/streaming/RecoverableNetworkWordCount.scala\n",
            "spark-2.4.3-bin-hadoop2.7/examples/src/main/scala/org/apache/spark/examples/streaming/clickstream/\n",
            "spark-2.4.3-bin-hadoop2.7/examples/src/main/scala/org/apache/spark/examples/streaming/clickstream/PageViewGenerator.scala\n",
            "spark-2.4.3-bin-hadoop2.7/examples/src/main/scala/org/apache/spark/examples/streaming/clickstream/PageViewStream.scala\n",
            "spark-2.4.3-bin-hadoop2.7/examples/src/main/scala/org/apache/spark/examples/streaming/DirectKafkaWordCount.scala\n",
            "spark-2.4.3-bin-hadoop2.7/examples/src/main/scala/org/apache/spark/examples/streaming/HdfsWordCount.scala\n",
            "spark-2.4.3-bin-hadoop2.7/examples/src/main/scala/org/apache/spark/examples/streaming/QueueStream.scala\n",
            "spark-2.4.3-bin-hadoop2.7/examples/src/main/scala/org/apache/spark/examples/streaming/StreamingExamples.scala\n",
            "spark-2.4.3-bin-hadoop2.7/examples/src/main/scala/org/apache/spark/examples/streaming/NetworkWordCount.scala\n",
            "spark-2.4.3-bin-hadoop2.7/examples/src/main/scala/org/apache/spark/examples/SparkKMeans.scala\n",
            "spark-2.4.3-bin-hadoop2.7/examples/src/main/scala/org/apache/spark/examples/DFSReadWriteTest.scala\n",
            "spark-2.4.3-bin-hadoop2.7/examples/src/main/scala/org/apache/spark/examples/ExceptionHandlingTest.scala\n",
            "spark-2.4.3-bin-hadoop2.7/examples/src/main/scala/org/apache/spark/examples/SparkALS.scala\n",
            "spark-2.4.3-bin-hadoop2.7/examples/src/main/scala/org/apache/spark/examples/LogQuery.scala\n",
            "spark-2.4.3-bin-hadoop2.7/examples/src/main/scala/org/apache/spark/examples/LocalLR.scala\n",
            "spark-2.4.3-bin-hadoop2.7/examples/src/main/scala/org/apache/spark/examples/sql/\n",
            "spark-2.4.3-bin-hadoop2.7/examples/src/main/scala/org/apache/spark/examples/sql/SparkSQLExample.scala\n",
            "spark-2.4.3-bin-hadoop2.7/examples/src/main/scala/org/apache/spark/examples/sql/hive/\n",
            "spark-2.4.3-bin-hadoop2.7/examples/src/main/scala/org/apache/spark/examples/sql/hive/SparkHiveExample.scala\n",
            "spark-2.4.3-bin-hadoop2.7/examples/src/main/scala/org/apache/spark/examples/sql/RDDRelation.scala\n",
            "spark-2.4.3-bin-hadoop2.7/examples/src/main/scala/org/apache/spark/examples/sql/streaming/\n",
            "spark-2.4.3-bin-hadoop2.7/examples/src/main/scala/org/apache/spark/examples/sql/streaming/StructuredNetworkWordCount.scala\n",
            "spark-2.4.3-bin-hadoop2.7/examples/src/main/scala/org/apache/spark/examples/sql/streaming/StructuredNetworkWordCountWindowed.scala\n",
            "spark-2.4.3-bin-hadoop2.7/examples/src/main/scala/org/apache/spark/examples/sql/streaming/StructuredKafkaWordCount.scala\n",
            "spark-2.4.3-bin-hadoop2.7/examples/src/main/scala/org/apache/spark/examples/sql/streaming/StructuredSessionization.scala\n",
            "spark-2.4.3-bin-hadoop2.7/examples/src/main/scala/org/apache/spark/examples/sql/UserDefinedUntypedAggregation.scala\n",
            "spark-2.4.3-bin-hadoop2.7/examples/src/main/scala/org/apache/spark/examples/sql/UserDefinedTypedAggregation.scala\n",
            "spark-2.4.3-bin-hadoop2.7/examples/src/main/scala/org/apache/spark/examples/sql/SQLDataSourceExample.scala\n",
            "spark-2.4.3-bin-hadoop2.7/examples/src/main/scala/org/apache/spark/examples/MultiBroadcastTest.scala\n",
            "spark-2.4.3-bin-hadoop2.7/examples/src/main/scala/org/apache/spark/examples/LocalALS.scala\n",
            "spark-2.4.3-bin-hadoop2.7/examples/src/main/scala/org/apache/spark/examples/DriverSubmissionTest.scala\n",
            "spark-2.4.3-bin-hadoop2.7/examples/src/main/scala/org/apache/spark/examples/LocalFileLR.scala\n",
            "spark-2.4.3-bin-hadoop2.7/examples/src/main/scala/org/apache/spark/examples/SimpleSkewedGroupByTest.scala\n",
            "spark-2.4.3-bin-hadoop2.7/examples/src/main/scala/org/apache/spark/examples/GroupByTest.scala\n",
            "spark-2.4.3-bin-hadoop2.7/examples/src/main/scala/org/apache/spark/examples/SparkRemoteFileTest.scala\n",
            "spark-2.4.3-bin-hadoop2.7/examples/src/main/java/\n",
            "spark-2.4.3-bin-hadoop2.7/examples/src/main/java/org/\n",
            "spark-2.4.3-bin-hadoop2.7/examples/src/main/java/org/apache/\n",
            "spark-2.4.3-bin-hadoop2.7/examples/src/main/java/org/apache/spark/\n",
            "spark-2.4.3-bin-hadoop2.7/examples/src/main/java/org/apache/spark/examples/\n",
            "spark-2.4.3-bin-hadoop2.7/examples/src/main/java/org/apache/spark/examples/JavaSparkPi.java\n",
            "spark-2.4.3-bin-hadoop2.7/examples/src/main/java/org/apache/spark/examples/JavaTC.java\n",
            "spark-2.4.3-bin-hadoop2.7/examples/src/main/java/org/apache/spark/examples/JavaHdfsLR.java\n",
            "spark-2.4.3-bin-hadoop2.7/examples/src/main/java/org/apache/spark/examples/JavaStatusTrackerDemo.java\n",
            "spark-2.4.3-bin-hadoop2.7/examples/src/main/java/org/apache/spark/examples/mllib/\n",
            "spark-2.4.3-bin-hadoop2.7/examples/src/main/java/org/apache/spark/examples/mllib/JavaGradientBoostingClassificationExample.java\n",
            "spark-2.4.3-bin-hadoop2.7/examples/src/main/java/org/apache/spark/examples/mllib/JavaHypothesisTestingExample.java\n",
            "spark-2.4.3-bin-hadoop2.7/examples/src/main/java/org/apache/spark/examples/mllib/JavaElementwiseProductExample.java\n",
            "spark-2.4.3-bin-hadoop2.7/examples/src/main/java/org/apache/spark/examples/mllib/JavaGaussianMixtureExample.java\n",
            "spark-2.4.3-bin-hadoop2.7/examples/src/main/java/org/apache/spark/examples/mllib/JavaAssociationRulesExample.java\n",
            "spark-2.4.3-bin-hadoop2.7/examples/src/main/java/org/apache/spark/examples/mllib/JavaDecisionTreeRegressionExample.java\n",
            "spark-2.4.3-bin-hadoop2.7/examples/src/main/java/org/apache/spark/examples/mllib/JavaBinaryClassificationMetricsExample.java\n",
            "spark-2.4.3-bin-hadoop2.7/examples/src/main/java/org/apache/spark/examples/mllib/JavaLBFGSExample.java\n",
            "spark-2.4.3-bin-hadoop2.7/examples/src/main/java/org/apache/spark/examples/mllib/JavaPowerIterationClusteringExample.java\n",
            "spark-2.4.3-bin-hadoop2.7/examples/src/main/java/org/apache/spark/examples/mllib/JavaMulticlassClassificationMetricsExample.java\n",
            "spark-2.4.3-bin-hadoop2.7/examples/src/main/java/org/apache/spark/examples/mllib/JavaRankingMetricsExample.java\n",
            "spark-2.4.3-bin-hadoop2.7/examples/src/main/java/org/apache/spark/examples/mllib/JavaRecommendationExample.java\n",
            "spark-2.4.3-bin-hadoop2.7/examples/src/main/java/org/apache/spark/examples/mllib/JavaHypothesisTestingKolmogorovSmirnovTestExample.java\n",
            "spark-2.4.3-bin-hadoop2.7/examples/src/main/java/org/apache/spark/examples/mllib/JavaRegressionMetricsExample.java\n",
            "spark-2.4.3-bin-hadoop2.7/examples/src/main/java/org/apache/spark/examples/mllib/JavaSVDExample.java\n",
            "spark-2.4.3-bin-hadoop2.7/examples/src/main/java/org/apache/spark/examples/mllib/JavaRandomForestClassificationExample.java\n",
            "spark-2.4.3-bin-hadoop2.7/examples/src/main/java/org/apache/spark/examples/mllib/JavaRandomForestRegressionExample.java\n",
            "spark-2.4.3-bin-hadoop2.7/examples/src/main/java/org/apache/spark/examples/mllib/JavaSummaryStatisticsExample.java\n",
            "spark-2.4.3-bin-hadoop2.7/examples/src/main/java/org/apache/spark/examples/mllib/JavaGradientBoostingRegressionExample.java\n",
            "spark-2.4.3-bin-hadoop2.7/examples/src/main/java/org/apache/spark/examples/mllib/JavaIsotonicRegressionExample.java\n",
            "spark-2.4.3-bin-hadoop2.7/examples/src/main/java/org/apache/spark/examples/mllib/JavaDecisionTreeClassificationExample.java\n",
            "spark-2.4.3-bin-hadoop2.7/examples/src/main/java/org/apache/spark/examples/mllib/JavaALS.java\n",
            "spark-2.4.3-bin-hadoop2.7/examples/src/main/java/org/apache/spark/examples/mllib/JavaKMeansExample.java\n",
            "spark-2.4.3-bin-hadoop2.7/examples/src/main/java/org/apache/spark/examples/mllib/JavaSVMWithSGDExample.java\n",
            "spark-2.4.3-bin-hadoop2.7/examples/src/main/java/org/apache/spark/examples/mllib/JavaLinearRegressionWithSGDExample.java\n",
            "spark-2.4.3-bin-hadoop2.7/examples/src/main/java/org/apache/spark/examples/mllib/JavaLatentDirichletAllocationExample.java\n",
            "spark-2.4.3-bin-hadoop2.7/examples/src/main/java/org/apache/spark/examples/mllib/JavaMultiLabelClassificationMetricsExample.java\n",
            "spark-2.4.3-bin-hadoop2.7/examples/src/main/java/org/apache/spark/examples/mllib/JavaBisectingKMeansExample.java\n",
            "spark-2.4.3-bin-hadoop2.7/examples/src/main/java/org/apache/spark/examples/mllib/JavaStratifiedSamplingExample.java\n",
            "spark-2.4.3-bin-hadoop2.7/examples/src/main/java/org/apache/spark/examples/mllib/JavaSimpleFPGrowth.java\n",
            "spark-2.4.3-bin-hadoop2.7/examples/src/main/java/org/apache/spark/examples/mllib/JavaLogisticRegressionWithLBFGSExample.java\n",
            "spark-2.4.3-bin-hadoop2.7/examples/src/main/java/org/apache/spark/examples/mllib/JavaPrefixSpanExample.java\n",
            "spark-2.4.3-bin-hadoop2.7/examples/src/main/java/org/apache/spark/examples/mllib/JavaPCAExample.java\n",
            "spark-2.4.3-bin-hadoop2.7/examples/src/main/java/org/apache/spark/examples/mllib/JavaCorrelationsExample.java\n",
            "spark-2.4.3-bin-hadoop2.7/examples/src/main/java/org/apache/spark/examples/mllib/JavaStreamingTestExample.java\n",
            "spark-2.4.3-bin-hadoop2.7/examples/src/main/java/org/apache/spark/examples/mllib/JavaNaiveBayesExample.java\n",
            "spark-2.4.3-bin-hadoop2.7/examples/src/main/java/org/apache/spark/examples/mllib/JavaChiSqSelectorExample.java\n",
            "spark-2.4.3-bin-hadoop2.7/examples/src/main/java/org/apache/spark/examples/mllib/JavaKernelDensityEstimationExample.java\n",
            "spark-2.4.3-bin-hadoop2.7/examples/src/main/java/org/apache/spark/examples/ml/\n",
            "spark-2.4.3-bin-hadoop2.7/examples/src/main/java/org/apache/spark/examples/ml/JavaBinarizerExample.java\n",
            "spark-2.4.3-bin-hadoop2.7/examples/src/main/java/org/apache/spark/examples/ml/JavaElementwiseProductExample.java\n",
            "spark-2.4.3-bin-hadoop2.7/examples/src/main/java/org/apache/spark/examples/ml/JavaInteractionExample.java\n",
            "spark-2.4.3-bin-hadoop2.7/examples/src/main/java/org/apache/spark/examples/ml/JavaGaussianMixtureExample.java\n",
            "spark-2.4.3-bin-hadoop2.7/examples/src/main/java/org/apache/spark/examples/ml/JavaBucketedRandomProjectionLSHExample.java\n",
            "spark-2.4.3-bin-hadoop2.7/examples/src/main/java/org/apache/spark/examples/ml/JavaLogisticRegressionWithElasticNetExample.java\n",
            "spark-2.4.3-bin-hadoop2.7/examples/src/main/java/org/apache/spark/examples/ml/JavaBucketizerExample.java\n",
            "spark-2.4.3-bin-hadoop2.7/examples/src/main/java/org/apache/spark/examples/ml/JavaDecisionTreeRegressionExample.java\n",
            "spark-2.4.3-bin-hadoop2.7/examples/src/main/java/org/apache/spark/examples/ml/JavaIndexToStringExample.java\n",
            "spark-2.4.3-bin-hadoop2.7/examples/src/main/java/org/apache/spark/examples/ml/JavaCorrelationExample.java\n",
            "spark-2.4.3-bin-hadoop2.7/examples/src/main/java/org/apache/spark/examples/ml/JavaMaxAbsScalerExample.java\n",
            "spark-2.4.3-bin-hadoop2.7/examples/src/main/java/org/apache/spark/examples/ml/JavaGradientBoostedTreeClassifierExample.java\n",
            "spark-2.4.3-bin-hadoop2.7/examples/src/main/java/org/apache/spark/examples/ml/JavaPowerIterationClusteringExample.java\n",
            "spark-2.4.3-bin-hadoop2.7/examples/src/main/java/org/apache/spark/examples/ml/JavaDocument.java\n",
            "spark-2.4.3-bin-hadoop2.7/examples/src/main/java/org/apache/spark/examples/ml/JavaLogisticRegressionSummaryExample.java\n",
            "spark-2.4.3-bin-hadoop2.7/examples/src/main/java/org/apache/spark/examples/ml/JavaStandardScalerExample.java\n",
            "spark-2.4.3-bin-hadoop2.7/examples/src/main/java/org/apache/spark/examples/ml/JavaMulticlassLogisticRegressionWithElasticNetExample.java\n",
            "spark-2.4.3-bin-hadoop2.7/examples/src/main/java/org/apache/spark/examples/ml/JavaChiSquareTestExample.java\n",
            "spark-2.4.3-bin-hadoop2.7/examples/src/main/java/org/apache/spark/examples/ml/JavaFPGrowthExample.java\n",
            "spark-2.4.3-bin-hadoop2.7/examples/src/main/java/org/apache/spark/examples/ml/JavaQuantileDiscretizerExample.java\n",
            "spark-2.4.3-bin-hadoop2.7/examples/src/main/java/org/apache/spark/examples/ml/JavaPolynomialExpansionExample.java\n",
            "spark-2.4.3-bin-hadoop2.7/examples/src/main/java/org/apache/spark/examples/ml/JavaTokenizerExample.java\n",
            "spark-2.4.3-bin-hadoop2.7/examples/src/main/java/org/apache/spark/examples/ml/JavaFeatureHasherExample.java\n",
            "spark-2.4.3-bin-hadoop2.7/examples/src/main/java/org/apache/spark/examples/ml/JavaVectorIndexerExample.java\n",
            "spark-2.4.3-bin-hadoop2.7/examples/src/main/java/org/apache/spark/examples/ml/JavaVectorSlicerExample.java\n",
            "spark-2.4.3-bin-hadoop2.7/examples/src/main/java/org/apache/spark/examples/ml/JavaStringIndexerExample.java\n",
            "spark-2.4.3-bin-hadoop2.7/examples/src/main/java/org/apache/spark/examples/ml/JavaIsotonicRegressionExample.java\n",
            "spark-2.4.3-bin-hadoop2.7/examples/src/main/java/org/apache/spark/examples/ml/JavaMultilayerPerceptronClassifierExample.java\n",
            "spark-2.4.3-bin-hadoop2.7/examples/src/main/java/org/apache/spark/examples/ml/JavaOneVsRestExample.java\n",
            "spark-2.4.3-bin-hadoop2.7/examples/src/main/java/org/apache/spark/examples/ml/JavaRFormulaExample.java\n",
            "spark-2.4.3-bin-hadoop2.7/examples/src/main/java/org/apache/spark/examples/ml/JavaDecisionTreeClassificationExample.java\n",
            "spark-2.4.3-bin-hadoop2.7/examples/src/main/java/org/apache/spark/examples/ml/JavaLDAExample.java\n",
            "spark-2.4.3-bin-hadoop2.7/examples/src/main/java/org/apache/spark/examples/ml/JavaDCTExample.java\n",
            "spark-2.4.3-bin-hadoop2.7/examples/src/main/java/org/apache/spark/examples/ml/JavaKMeansExample.java\n",
            "spark-2.4.3-bin-hadoop2.7/examples/src/main/java/org/apache/spark/examples/ml/JavaModelSelectionViaCrossValidationExample.java\n",
            "spark-2.4.3-bin-hadoop2.7/examples/src/main/java/org/apache/spark/examples/ml/JavaSummarizerExample.java\n",
            "spark-2.4.3-bin-hadoop2.7/examples/src/main/java/org/apache/spark/examples/ml/JavaRandomForestClassifierExample.java\n",
            "spark-2.4.3-bin-hadoop2.7/examples/src/main/java/org/apache/spark/examples/ml/JavaImputerExample.java\n",
            "spark-2.4.3-bin-hadoop2.7/examples/src/main/java/org/apache/spark/examples/ml/JavaMinMaxScalerExample.java\n",
            "spark-2.4.3-bin-hadoop2.7/examples/src/main/java/org/apache/spark/examples/ml/JavaEstimatorTransformerParamExample.java\n",
            "spark-2.4.3-bin-hadoop2.7/examples/src/main/java/org/apache/spark/examples/ml/JavaOneHotEncoderEstimatorExample.java\n",
            "spark-2.4.3-bin-hadoop2.7/examples/src/main/java/org/apache/spark/examples/ml/JavaSQLTransformerExample.java\n",
            "spark-2.4.3-bin-hadoop2.7/examples/src/main/java/org/apache/spark/examples/ml/JavaLabeledDocument.java\n",
            "spark-2.4.3-bin-hadoop2.7/examples/src/main/java/org/apache/spark/examples/ml/JavaStopWordsRemoverExample.java\n",
            "spark-2.4.3-bin-hadoop2.7/examples/src/main/java/org/apache/spark/examples/ml/JavaTfIdfExample.java\n",
            "spark-2.4.3-bin-hadoop2.7/examples/src/main/java/org/apache/spark/examples/ml/JavaMinHashLSHExample.java\n",
            "spark-2.4.3-bin-hadoop2.7/examples/src/main/java/org/apache/spark/examples/ml/JavaBisectingKMeansExample.java\n",
            "spark-2.4.3-bin-hadoop2.7/examples/src/main/java/org/apache/spark/examples/ml/JavaLinearRegressionWithElasticNetExample.java\n",
            "spark-2.4.3-bin-hadoop2.7/examples/src/main/java/org/apache/spark/examples/ml/JavaNGramExample.java\n",
            "spark-2.4.3-bin-hadoop2.7/examples/src/main/java/org/apache/spark/examples/ml/JavaModelSelectionViaTrainValidationSplitExample.java\n",
            "spark-2.4.3-bin-hadoop2.7/examples/src/main/java/org/apache/spark/examples/ml/JavaPrefixSpanExample.java\n",
            "spark-2.4.3-bin-hadoop2.7/examples/src/main/java/org/apache/spark/examples/ml/JavaWord2VecExample.java\n",
            "spark-2.4.3-bin-hadoop2.7/examples/src/main/java/org/apache/spark/examples/ml/JavaGradientBoostedTreeRegressorExample.java\n",
            "spark-2.4.3-bin-hadoop2.7/examples/src/main/java/org/apache/spark/examples/ml/JavaAFTSurvivalRegressionExample.java\n",
            "spark-2.4.3-bin-hadoop2.7/examples/src/main/java/org/apache/spark/examples/ml/JavaPCAExample.java\n",
            "spark-2.4.3-bin-hadoop2.7/examples/src/main/java/org/apache/spark/examples/ml/JavaCountVectorizerExample.java\n",
            "spark-2.4.3-bin-hadoop2.7/examples/src/main/java/org/apache/spark/examples/ml/JavaGeneralizedLinearRegressionExample.java\n",
            "spark-2.4.3-bin-hadoop2.7/examples/src/main/java/org/apache/spark/examples/ml/JavaVectorSizeHintExample.java\n",
            "spark-2.4.3-bin-hadoop2.7/examples/src/main/java/org/apache/spark/examples/ml/JavaNaiveBayesExample.java\n",
            "spark-2.4.3-bin-hadoop2.7/examples/src/main/java/org/apache/spark/examples/ml/JavaNormalizerExample.java\n",
            "spark-2.4.3-bin-hadoop2.7/examples/src/main/java/org/apache/spark/examples/ml/JavaChiSqSelectorExample.java\n",
            "spark-2.4.3-bin-hadoop2.7/examples/src/main/java/org/apache/spark/examples/ml/JavaVectorAssemblerExample.java\n",
            "spark-2.4.3-bin-hadoop2.7/examples/src/main/java/org/apache/spark/examples/ml/JavaRandomForestRegressorExample.java\n",
            "spark-2.4.3-bin-hadoop2.7/examples/src/main/java/org/apache/spark/examples/ml/JavaLinearSVCExample.java\n",
            "spark-2.4.3-bin-hadoop2.7/examples/src/main/java/org/apache/spark/examples/ml/JavaPipelineExample.java\n",
            "spark-2.4.3-bin-hadoop2.7/examples/src/main/java/org/apache/spark/examples/ml/JavaALSExample.java\n",
            "spark-2.4.3-bin-hadoop2.7/examples/src/main/java/org/apache/spark/examples/streaming/\n",
            "spark-2.4.3-bin-hadoop2.7/examples/src/main/java/org/apache/spark/examples/streaming/JavaStatefulNetworkWordCount.java\n",
            "spark-2.4.3-bin-hadoop2.7/examples/src/main/java/org/apache/spark/examples/streaming/JavaNetworkWordCount.java\n",
            "spark-2.4.3-bin-hadoop2.7/examples/src/main/java/org/apache/spark/examples/streaming/JavaCustomReceiver.java\n",
            "spark-2.4.3-bin-hadoop2.7/examples/src/main/java/org/apache/spark/examples/streaming/JavaRecoverableNetworkWordCount.java\n",
            "spark-2.4.3-bin-hadoop2.7/examples/src/main/java/org/apache/spark/examples/streaming/JavaDirectKafkaWordCount.java\n",
            "spark-2.4.3-bin-hadoop2.7/examples/src/main/java/org/apache/spark/examples/streaming/JavaQueueStream.java\n",
            "spark-2.4.3-bin-hadoop2.7/examples/src/main/java/org/apache/spark/examples/streaming/JavaSqlNetworkWordCount.java\n",
            "spark-2.4.3-bin-hadoop2.7/examples/src/main/java/org/apache/spark/examples/streaming/JavaRecord.java\n",
            "spark-2.4.3-bin-hadoop2.7/examples/src/main/java/org/apache/spark/examples/sql/\n",
            "spark-2.4.3-bin-hadoop2.7/examples/src/main/java/org/apache/spark/examples/sql/JavaSparkSQLExample.java\n",
            "spark-2.4.3-bin-hadoop2.7/examples/src/main/java/org/apache/spark/examples/sql/hive/\n",
            "spark-2.4.3-bin-hadoop2.7/examples/src/main/java/org/apache/spark/examples/sql/hive/JavaSparkHiveExample.java\n",
            "spark-2.4.3-bin-hadoop2.7/examples/src/main/java/org/apache/spark/examples/sql/JavaUserDefinedTypedAggregation.java\n",
            "spark-2.4.3-bin-hadoop2.7/examples/src/main/java/org/apache/spark/examples/sql/JavaUserDefinedUntypedAggregation.java\n",
            "spark-2.4.3-bin-hadoop2.7/examples/src/main/java/org/apache/spark/examples/sql/streaming/\n",
            "spark-2.4.3-bin-hadoop2.7/examples/src/main/java/org/apache/spark/examples/sql/streaming/JavaStructuredKafkaWordCount.java\n",
            "spark-2.4.3-bin-hadoop2.7/examples/src/main/java/org/apache/spark/examples/sql/streaming/JavaStructuredNetworkWordCount.java\n",
            "spark-2.4.3-bin-hadoop2.7/examples/src/main/java/org/apache/spark/examples/sql/streaming/JavaStructuredNetworkWordCountWindowed.java\n",
            "spark-2.4.3-bin-hadoop2.7/examples/src/main/java/org/apache/spark/examples/sql/streaming/JavaStructuredSessionization.java\n",
            "spark-2.4.3-bin-hadoop2.7/examples/src/main/java/org/apache/spark/examples/sql/JavaSQLDataSourceExample.java\n",
            "spark-2.4.3-bin-hadoop2.7/examples/src/main/java/org/apache/spark/examples/JavaWordCount.java\n",
            "spark-2.4.3-bin-hadoop2.7/examples/src/main/java/org/apache/spark/examples/JavaLogQuery.java\n",
            "spark-2.4.3-bin-hadoop2.7/examples/src/main/java/org/apache/spark/examples/JavaPageRank.java\n",
            "spark-2.4.3-bin-hadoop2.7/examples/src/main/r/\n",
            "spark-2.4.3-bin-hadoop2.7/examples/src/main/r/RSparkSQLExample.R\n",
            "spark-2.4.3-bin-hadoop2.7/examples/src/main/r/ml/\n",
            "spark-2.4.3-bin-hadoop2.7/examples/src/main/r/ml/glm.R\n",
            "spark-2.4.3-bin-hadoop2.7/examples/src/main/r/ml/als.R\n",
            "spark-2.4.3-bin-hadoop2.7/examples/src/main/r/ml/kmeans.R\n",
            "spark-2.4.3-bin-hadoop2.7/examples/src/main/r/ml/mlp.R\n",
            "spark-2.4.3-bin-hadoop2.7/examples/src/main/r/ml/lda.R\n",
            "spark-2.4.3-bin-hadoop2.7/examples/src/main/r/ml/ml.R\n",
            "spark-2.4.3-bin-hadoop2.7/examples/src/main/r/ml/naiveBayes.R\n",
            "spark-2.4.3-bin-hadoop2.7/examples/src/main/r/ml/kstest.R\n",
            "spark-2.4.3-bin-hadoop2.7/examples/src/main/r/ml/gbt.R\n",
            "spark-2.4.3-bin-hadoop2.7/examples/src/main/r/ml/survreg.R\n",
            "spark-2.4.3-bin-hadoop2.7/examples/src/main/r/ml/svmLinear.R\n",
            "spark-2.4.3-bin-hadoop2.7/examples/src/main/r/ml/bisectingKmeans.R\n",
            "spark-2.4.3-bin-hadoop2.7/examples/src/main/r/ml/gaussianMixture.R\n",
            "spark-2.4.3-bin-hadoop2.7/examples/src/main/r/ml/isoreg.R\n",
            "spark-2.4.3-bin-hadoop2.7/examples/src/main/r/ml/randomForest.R\n",
            "spark-2.4.3-bin-hadoop2.7/examples/src/main/r/ml/decisionTree.R\n",
            "spark-2.4.3-bin-hadoop2.7/examples/src/main/r/ml/logit.R\n",
            "spark-2.4.3-bin-hadoop2.7/examples/src/main/r/ml/fpm.R\n",
            "spark-2.4.3-bin-hadoop2.7/examples/src/main/r/data-manipulation.R\n",
            "spark-2.4.3-bin-hadoop2.7/examples/src/main/r/streaming/\n",
            "spark-2.4.3-bin-hadoop2.7/examples/src/main/r/streaming/structured_network_wordcount.R\n",
            "spark-2.4.3-bin-hadoop2.7/examples/src/main/r/dataframe.R\n",
            "spark-2.4.3-bin-hadoop2.7/examples/src/main/resources/\n",
            "spark-2.4.3-bin-hadoop2.7/examples/src/main/resources/people.csv\n",
            "spark-2.4.3-bin-hadoop2.7/examples/src/main/resources/users.avro\n",
            "spark-2.4.3-bin-hadoop2.7/examples/src/main/resources/employees.json\n",
            "spark-2.4.3-bin-hadoop2.7/examples/src/main/resources/full_user.avsc\n",
            "spark-2.4.3-bin-hadoop2.7/examples/src/main/resources/people.json\n",
            "spark-2.4.3-bin-hadoop2.7/examples/src/main/resources/people.txt\n",
            "spark-2.4.3-bin-hadoop2.7/examples/src/main/resources/kv1.txt\n",
            "spark-2.4.3-bin-hadoop2.7/examples/src/main/resources/users.parquet\n",
            "spark-2.4.3-bin-hadoop2.7/examples/src/main/resources/users.orc\n",
            "spark-2.4.3-bin-hadoop2.7/examples/src/main/resources/user.avsc\n",
            "spark-2.4.3-bin-hadoop2.7/NOTICE\n",
            "spark-2.4.3-bin-hadoop2.7/data/\n",
            "spark-2.4.3-bin-hadoop2.7/data/graphx/\n",
            "spark-2.4.3-bin-hadoop2.7/data/graphx/users.txt\n",
            "spark-2.4.3-bin-hadoop2.7/data/graphx/followers.txt\n",
            "spark-2.4.3-bin-hadoop2.7/data/mllib/\n",
            "spark-2.4.3-bin-hadoop2.7/data/mllib/gmm_data.txt\n",
            "spark-2.4.3-bin-hadoop2.7/data/mllib/images/\n",
            "spark-2.4.3-bin-hadoop2.7/data/mllib/images/origin/\n",
            "spark-2.4.3-bin-hadoop2.7/data/mllib/images/origin/multi-channel/\n",
            "spark-2.4.3-bin-hadoop2.7/data/mllib/images/origin/multi-channel/chr30.4.184.jpg\n",
            "spark-2.4.3-bin-hadoop2.7/data/mllib/images/origin/multi-channel/grayscale.jpg\n",
            "spark-2.4.3-bin-hadoop2.7/data/mllib/images/origin/multi-channel/BGRA_alpha_60.png\n",
            "spark-2.4.3-bin-hadoop2.7/data/mllib/images/origin/multi-channel/BGRA.png\n",
            "spark-2.4.3-bin-hadoop2.7/data/mllib/images/origin/kittens/\n",
            "spark-2.4.3-bin-hadoop2.7/data/mllib/images/origin/kittens/DP153539.jpg\n",
            "spark-2.4.3-bin-hadoop2.7/data/mllib/images/origin/kittens/54893.jpg\n",
            "spark-2.4.3-bin-hadoop2.7/data/mllib/images/origin/kittens/not-image.txt\n",
            "spark-2.4.3-bin-hadoop2.7/data/mllib/images/origin/kittens/DP802813.jpg\n",
            "spark-2.4.3-bin-hadoop2.7/data/mllib/images/origin/kittens/29.5.a_b_EGDP022204.jpg\n",
            "spark-2.4.3-bin-hadoop2.7/data/mllib/images/origin/license.txt\n",
            "spark-2.4.3-bin-hadoop2.7/data/mllib/images/license.txt\n",
            "spark-2.4.3-bin-hadoop2.7/data/mllib/images/partitioned/\n",
            "spark-2.4.3-bin-hadoop2.7/data/mllib/images/partitioned/cls=multichannel/\n",
            "spark-2.4.3-bin-hadoop2.7/data/mllib/images/partitioned/cls=multichannel/date=2018-02/\n",
            "spark-2.4.3-bin-hadoop2.7/data/mllib/images/partitioned/cls=multichannel/date=2018-02/chr30.4.184.jpg\n",
            "spark-2.4.3-bin-hadoop2.7/data/mllib/images/partitioned/cls=multichannel/date=2018-02/grayscale.jpg\n",
            "spark-2.4.3-bin-hadoop2.7/data/mllib/images/partitioned/cls=multichannel/date=2018-01/\n",
            "spark-2.4.3-bin-hadoop2.7/data/mllib/images/partitioned/cls=multichannel/date=2018-01/BGRA_alpha_60.png\n",
            "spark-2.4.3-bin-hadoop2.7/data/mllib/images/partitioned/cls=multichannel/date=2018-01/BGRA.png\n",
            "spark-2.4.3-bin-hadoop2.7/data/mllib/images/partitioned/cls=kittens/\n",
            "spark-2.4.3-bin-hadoop2.7/data/mllib/images/partitioned/cls=kittens/date=2018-02/\n",
            "spark-2.4.3-bin-hadoop2.7/data/mllib/images/partitioned/cls=kittens/date=2018-02/DP153539.jpg\n",
            "spark-2.4.3-bin-hadoop2.7/data/mllib/images/partitioned/cls=kittens/date=2018-02/54893.jpg\n",
            "spark-2.4.3-bin-hadoop2.7/data/mllib/images/partitioned/cls=kittens/date=2018-02/DP802813.jpg\n",
            "spark-2.4.3-bin-hadoop2.7/data/mllib/images/partitioned/cls=kittens/date=2018-01/\n",
            "spark-2.4.3-bin-hadoop2.7/data/mllib/images/partitioned/cls=kittens/date=2018-01/not-image.txt\n",
            "spark-2.4.3-bin-hadoop2.7/data/mllib/images/partitioned/cls=kittens/date=2018-01/29.5.a_b_EGDP022204.jpg\n",
            "spark-2.4.3-bin-hadoop2.7/data/mllib/sample_linear_regression_data.txt\n",
            "spark-2.4.3-bin-hadoop2.7/data/mllib/sample_lda_data.txt\n",
            "spark-2.4.3-bin-hadoop2.7/data/mllib/kmeans_data.txt\n",
            "spark-2.4.3-bin-hadoop2.7/data/mllib/sample_svm_data.txt\n",
            "spark-2.4.3-bin-hadoop2.7/data/mllib/streaming_kmeans_data_test.txt\n",
            "spark-2.4.3-bin-hadoop2.7/data/mllib/sample_kmeans_data.txt\n",
            "spark-2.4.3-bin-hadoop2.7/data/mllib/sample_multiclass_classification_data.txt\n",
            "spark-2.4.3-bin-hadoop2.7/data/mllib/sample_fpgrowth.txt\n",
            "spark-2.4.3-bin-hadoop2.7/data/mllib/pic_data.txt\n",
            "spark-2.4.3-bin-hadoop2.7/data/mllib/pagerank_data.txt\n",
            "spark-2.4.3-bin-hadoop2.7/data/mllib/sample_isotonic_regression_libsvm_data.txt\n",
            "spark-2.4.3-bin-hadoop2.7/data/mllib/als/\n",
            "spark-2.4.3-bin-hadoop2.7/data/mllib/als/test.data\n",
            "spark-2.4.3-bin-hadoop2.7/data/mllib/als/sample_movielens_ratings.txt\n",
            "spark-2.4.3-bin-hadoop2.7/data/mllib/sample_lda_libsvm_data.txt\n",
            "spark-2.4.3-bin-hadoop2.7/data/mllib/sample_binary_classification_data.txt\n",
            "spark-2.4.3-bin-hadoop2.7/data/mllib/ridge-data/\n",
            "spark-2.4.3-bin-hadoop2.7/data/mllib/ridge-data/lpsa.data\n",
            "spark-2.4.3-bin-hadoop2.7/data/mllib/sample_movielens_data.txt\n",
            "spark-2.4.3-bin-hadoop2.7/data/mllib/iris_libsvm.txt\n",
            "spark-2.4.3-bin-hadoop2.7/data/mllib/sample_libsvm_data.txt\n",
            "spark-2.4.3-bin-hadoop2.7/data/streaming/\n",
            "spark-2.4.3-bin-hadoop2.7/data/streaming/AFINN-111.txt\n",
            "spark-2.4.3-bin-hadoop2.7/README.md\n",
            "spark-2.4.3-bin-hadoop2.7/LICENSE\n"
          ],
          "name": "stdout"
        }
      ]
    },
    {
      "cell_type": "markdown",
      "metadata": {
        "id": "5DTILBUXmGnd",
        "colab_type": "text"
      },
      "source": [
        "## Test Spark"
      ]
    },
    {
      "cell_type": "code",
      "metadata": {
        "id": "2HwI_t-bl23c",
        "colab_type": "code",
        "outputId": "d8373ba4-fdd2-4d0c-d996-3ff30f028ed5",
        "colab": {
          "base_uri": "https://localhost:8080/",
          "height": 190
        }
      },
      "source": [
        "df = spark.createDataFrame([{\"Google\": \"Colab\",\"Spark\": \"Scala\"} ,{\"Google\": \"Dataproc\",\"Spark\":\"Python\"}])\n",
        "df.show()"
      ],
      "execution_count": 0,
      "outputs": [
        {
          "output_type": "stream",
          "text": [
            "/content/spark-2.4.3-bin-hadoop2.7/python/pyspark/sql/session.py:346: UserWarning: inferring schema from dict is deprecated,please use pyspark.sql.Row instead\n",
            "  warnings.warn(\"inferring schema from dict is deprecated,\"\n"
          ],
          "name": "stderr"
        },
        {
          "output_type": "stream",
          "text": [
            "+--------+------+\n",
            "|  Google| Spark|\n",
            "+--------+------+\n",
            "|   Colab| Scala|\n",
            "|Dataproc|Python|\n",
            "+--------+------+\n",
            "\n"
          ],
          "name": "stdout"
        }
      ]
    },
    {
      "cell_type": "markdown",
      "metadata": {
        "id": "qSv6b2NWkohX",
        "colab_type": "text"
      },
      "source": [
        "## Copy a data file to your local Colab environment"
      ]
    },
    {
      "cell_type": "code",
      "metadata": {
        "id": "7aQQFrZjkkks",
        "colab_type": "code",
        "outputId": "ff3b1c49-b77a-48e8-a4aa-9502c641db38",
        "colab": {
          "base_uri": "https://localhost:8080/",
          "height": 224
        }
      },
      "source": [
        "!wget https://onedollarskill.s3.amazonaws.com/AI/retailstore.csv"
      ],
      "execution_count": 0,
      "outputs": [
        {
          "output_type": "stream",
          "text": [
            "--2019-08-29 01:17:13--  https://onedollarskill.s3.amazonaws.com/AI/retailstore.csv\n",
            "Resolving onedollarskill.s3.amazonaws.com (onedollarskill.s3.amazonaws.com)... 52.216.227.96\n",
            "Connecting to onedollarskill.s3.amazonaws.com (onedollarskill.s3.amazonaws.com)|52.216.227.96|:443... connected.\n",
            "HTTP request sent, awaiting response... 200 OK\n",
            "Length: 279 [text/csv]\n",
            "Saving to: ‘retailstore.csv’\n",
            "\n",
            "\rretailstore.csv       0%[                    ]       0  --.-KB/s               \rretailstore.csv     100%[===================>]     279  --.-KB/s    in 0s      \n",
            "\n",
            "2019-08-29 01:17:13 (6.02 MB/s) - ‘retailstore.csv’ saved [279/279]\n",
            "\n"
          ],
          "name": "stdout"
        }
      ]
    },
    {
      "cell_type": "markdown",
      "metadata": {
        "id": "JZJdUTuOkv11",
        "colab_type": "text"
      },
      "source": [
        "## Check if the file is copied"
      ]
    },
    {
      "cell_type": "code",
      "metadata": {
        "id": "JW0FddNtmEYU",
        "colab_type": "code",
        "outputId": "3a408b99-65f0-415f-9e54-db94e835b6d3",
        "colab": {
          "base_uri": "https://localhost:8080/",
          "height": 51
        }
      },
      "source": [
        "!ls\n"
      ],
      "execution_count": 0,
      "outputs": [
        {
          "output_type": "stream",
          "text": [
            "retailstore.csv  spark-2.4.3-bin-hadoop2.7\tspark-warehouse\n",
            "sample_data\t spark-2.4.3-bin-hadoop2.7.tgz\n"
          ],
          "name": "stdout"
        }
      ]
    },
    {
      "cell_type": "markdown",
      "metadata": {
        "colab_type": "text",
        "id": "IbdX0p13eILZ"
      },
      "source": [
        "# DataFrame"
      ]
    },
    {
      "cell_type": "markdown",
      "metadata": {
        "id": "VYSFxm18k9En",
        "colab_type": "text"
      },
      "source": [
        "## Read the CSV file into a DataFrame"
      ]
    },
    {
      "cell_type": "code",
      "metadata": {
        "id": "DRtEs9_rmxuu",
        "colab_type": "code",
        "colab": {}
      },
      "source": [
        "customerDF = spark.read.csv(\"retailstore.csv\",header=True)"
      ],
      "execution_count": 0,
      "outputs": []
    },
    {
      "cell_type": "code",
      "metadata": {
        "id": "FIogco20AxxU",
        "colab_type": "code",
        "outputId": "c5b32e72-2e0a-4995-dbb6-93cde89d15b5",
        "colab": {
          "base_uri": "https://localhost:8080/",
          "height": 34
        }
      },
      "source": [
        "type(customerDF)"
      ],
      "execution_count": 0,
      "outputs": [
        {
          "output_type": "execute_result",
          "data": {
            "text/plain": [
              "pyspark.sql.dataframe.DataFrame"
            ]
          },
          "metadata": {
            "tags": []
          },
          "execution_count": 18
        }
      ]
    },
    {
      "cell_type": "markdown",
      "metadata": {
        "id": "oqkWUeXLlZas",
        "colab_type": "text"
      },
      "source": [
        "## Print the dataset"
      ]
    },
    {
      "cell_type": "code",
      "metadata": {
        "id": "fxRS50t5lDiB",
        "colab_type": "code",
        "outputId": "ec9b16ae-6322-4de7-87a9-b0c9efe1c8e6",
        "colab": {
          "base_uri": "https://localhost:8080/",
          "height": 272
        }
      },
      "source": [
        "customerDF.show()"
      ],
      "execution_count": 0,
      "outputs": [
        {
          "output_type": "stream",
          "text": [
            "+----+------+------+-------+---------+\n",
            "| Age|Salary|Gender|Country|Purchased|\n",
            "+----+------+------+-------+---------+\n",
            "|  18| 20000|  Male|Germany|        N|\n",
            "|  19| 22000|Female| France|        N|\n",
            "|  20| 24000|Female|England|        N|\n",
            "|  21|  null|  Male|England|        N|\n",
            "|  22| 50000|  Male| France|        Y|\n",
            "|  23| 35000|Female|England|        N|\n",
            "|  24|  null|  Male|Germany|        N|\n",
            "|  25| 32000|Female| France|        Y|\n",
            "|null| 35000|  Male|Germany|        N|\n",
            "|  27| 37000|Female| France|        N|\n",
            "+----+------+------+-------+---------+\n",
            "\n"
          ],
          "name": "stdout"
        }
      ]
    },
    {
      "cell_type": "code",
      "metadata": {
        "id": "7GGvDcMylJDe",
        "colab_type": "code",
        "outputId": "ac9a1ee0-411a-4448-e282-93ca76282d37",
        "colab": {
          "base_uri": "https://localhost:8080/",
          "height": 204
        }
      },
      "source": [
        "customerDF.show(5)"
      ],
      "execution_count": 0,
      "outputs": [
        {
          "output_type": "stream",
          "text": [
            "+---+------+------+-------+---------+\n",
            "|Age|Salary|Gender|Country|Purchased|\n",
            "+---+------+------+-------+---------+\n",
            "| 18| 20000|  Male|Germany|        N|\n",
            "| 19| 22000|Female| France|        N|\n",
            "| 20| 24000|Female|England|        N|\n",
            "| 21|  null|  Male|England|        N|\n",
            "| 22| 50000|  Male| France|        Y|\n",
            "+---+------+------+-------+---------+\n",
            "only showing top 5 rows\n",
            "\n"
          ],
          "name": "stdout"
        }
      ]
    },
    {
      "cell_type": "markdown",
      "metadata": {
        "id": "nUezStgZpMMg",
        "colab_type": "text"
      },
      "source": [
        "## Get Statistical Summary of the DataFrame"
      ]
    },
    {
      "cell_type": "code",
      "metadata": {
        "id": "YtlFO_XSlXM4",
        "colab_type": "code",
        "outputId": "478a027d-06a2-4706-fccb-c91ffd688ad1",
        "colab": {
          "base_uri": "https://localhost:8080/",
          "height": 187
        }
      },
      "source": [
        "customerDF.describe().show() "
      ],
      "execution_count": 0,
      "outputs": [
        {
          "output_type": "stream",
          "text": [
            "+-------+-----------------+-----------------+------+-------+---------+\n",
            "|summary|              Age|           Salary|Gender|Country|Purchased|\n",
            "+-------+-----------------+-----------------+------+-------+---------+\n",
            "|  count|                9|                8|    10|     10|       10|\n",
            "|   mean|22.11111111111111|          31875.0|  null|   null|     null|\n",
            "| stddev|2.934469476943168|9818.895777311942|  null|   null|     null|\n",
            "|    min|               18|            20000|Female|England|        N|\n",
            "|    max|               27|            50000|  Male|Germany|        Y|\n",
            "+-------+-----------------+-----------------+------+-------+---------+\n",
            "\n"
          ],
          "name": "stdout"
        }
      ]
    },
    {
      "cell_type": "markdown",
      "metadata": {
        "id": "D60MY0OopRLn",
        "colab_type": "text"
      },
      "source": [
        "## Select a particular column"
      ]
    },
    {
      "cell_type": "code",
      "metadata": {
        "id": "jJmYFDJUpN8Y",
        "colab_type": "code",
        "outputId": "a8389414-be58-4a35-e1fc-e0a47c328afc",
        "colab": {
          "base_uri": "https://localhost:8080/",
          "height": 272
        }
      },
      "source": [
        "customerDF.select(\"country\").show()"
      ],
      "execution_count": 0,
      "outputs": [
        {
          "output_type": "stream",
          "text": [
            "+-------+\n",
            "|country|\n",
            "+-------+\n",
            "|Germany|\n",
            "| France|\n",
            "|England|\n",
            "|England|\n",
            "| France|\n",
            "|England|\n",
            "|Germany|\n",
            "| France|\n",
            "|Germany|\n",
            "| France|\n",
            "+-------+\n",
            "\n"
          ],
          "name": "stdout"
        }
      ]
    },
    {
      "cell_type": "markdown",
      "metadata": {
        "id": "_-6lABXGpXH8",
        "colab_type": "text"
      },
      "source": [
        "## View count group by country"
      ]
    },
    {
      "cell_type": "code",
      "metadata": {
        "id": "MHpnGzAvpT4c",
        "colab_type": "code",
        "outputId": "c44c550f-b505-4f2d-dfee-df0b920cd530",
        "colab": {
          "base_uri": "https://localhost:8080/",
          "height": 153
        }
      },
      "source": [
        "customerDF.groupBy(\"country\").count().show()"
      ],
      "execution_count": 0,
      "outputs": [
        {
          "output_type": "stream",
          "text": [
            "+-------+-----+\n",
            "|country|count|\n",
            "+-------+-----+\n",
            "|Germany|    3|\n",
            "| France|    4|\n",
            "|England|    3|\n",
            "+-------+-----+\n",
            "\n"
          ],
          "name": "stdout"
        }
      ]
    },
    {
      "cell_type": "markdown",
      "metadata": {
        "id": "jbdi_in4pgOZ",
        "colab_type": "text"
      },
      "source": [
        "## View count group by gender"
      ]
    },
    {
      "cell_type": "code",
      "metadata": {
        "id": "YoRiJCGPpb2z",
        "colab_type": "code",
        "outputId": "3dff31c6-95a5-4ad9-f647-752b85e7c1f9",
        "colab": {
          "base_uri": "https://localhost:8080/",
          "height": 136
        }
      },
      "source": [
        "customerDF.groupBy(\"gender\").count().show()\n"
      ],
      "execution_count": 0,
      "outputs": [
        {
          "output_type": "stream",
          "text": [
            "+------+-----+\n",
            "|gender|count|\n",
            "+------+-----+\n",
            "|Female|    5|\n",
            "|  Male|    5|\n",
            "+------+-----+\n",
            "\n"
          ],
          "name": "stdout"
        }
      ]
    },
    {
      "cell_type": "markdown",
      "metadata": {
        "id": "jxJ2zoXy4CTd",
        "colab_type": "text"
      },
      "source": [
        "# Running SQL Queries Programmatically"
      ]
    },
    {
      "cell_type": "markdown",
      "metadata": {
        "id": "KecVU9_Dpqs_",
        "colab_type": "text"
      },
      "source": [
        "## Create a temporary table"
      ]
    },
    {
      "cell_type": "code",
      "metadata": {
        "id": "rOGikgrWpklB",
        "colab_type": "code",
        "colab": {}
      },
      "source": [
        "customerDF.createOrReplaceTempView(\"customer\")\n"
      ],
      "execution_count": 0,
      "outputs": []
    },
    {
      "cell_type": "markdown",
      "metadata": {
        "id": "4aIP4v3apwa_",
        "colab_type": "text"
      },
      "source": [
        "## Fetch all records from the table using a SQL query"
      ]
    },
    {
      "cell_type": "code",
      "metadata": {
        "id": "XO6GjcuGptKm",
        "colab_type": "code",
        "colab": {}
      },
      "source": [
        "results = spark.sql(\"select * from customer\")\n"
      ],
      "execution_count": 0,
      "outputs": []
    },
    {
      "cell_type": "code",
      "metadata": {
        "id": "h9wE19-I5iVQ",
        "colab_type": "code",
        "outputId": "d124d047-d582-45a8-e136-1272bf7aa522",
        "colab": {
          "base_uri": "https://localhost:8080/",
          "height": 34
        }
      },
      "source": [
        "type(results)"
      ],
      "execution_count": 0,
      "outputs": [
        {
          "output_type": "execute_result",
          "data": {
            "text/plain": [
              "pyspark.sql.dataframe.DataFrame"
            ]
          },
          "metadata": {
            "tags": []
          },
          "execution_count": 35
        }
      ]
    },
    {
      "cell_type": "markdown",
      "metadata": {
        "id": "eXsFnQtHp2Pj",
        "colab_type": "text"
      },
      "source": [
        "## Show the result fetched"
      ]
    },
    {
      "cell_type": "code",
      "metadata": {
        "id": "2S4B2gAipvF1",
        "colab_type": "code",
        "outputId": "7f18a116-f421-4dff-a90f-462ff60b22c6",
        "colab": {
          "base_uri": "https://localhost:8080/",
          "height": 272
        }
      },
      "source": [
        "results.show()\n"
      ],
      "execution_count": 0,
      "outputs": [
        {
          "output_type": "stream",
          "text": [
            "+----+------+------+-------+---------+\n",
            "| Age|Salary|Gender|Country|Purchased|\n",
            "+----+------+------+-------+---------+\n",
            "|  18| 20000|  Male|Germany|        N|\n",
            "|  19| 22000|Female| France|        N|\n",
            "|  20| 24000|Female|England|        N|\n",
            "|  21|  null|  Male|England|        N|\n",
            "|  22| 50000|  Male| France|        Y|\n",
            "|  23| 35000|Female|England|        N|\n",
            "|  24|  null|  Male|Germany|        N|\n",
            "|  25| 32000|Female| France|        Y|\n",
            "|null| 35000|  Male|Germany|        N|\n",
            "|  27| 37000|Female| France|        N|\n",
            "+----+------+------+-------+---------+\n",
            "\n"
          ],
          "name": "stdout"
        }
      ]
    },
    {
      "cell_type": "markdown",
      "metadata": {
        "id": "SDGNECYTqJBQ",
        "colab_type": "text"
      },
      "source": [
        "## Get the list of customers with age greater than 22"
      ]
    },
    {
      "cell_type": "code",
      "metadata": {
        "id": "J8WvyvdtqBcF",
        "colab_type": "code",
        "outputId": "bc740065-2196-4744-be1e-dfcd55c7ba66",
        "colab": {
          "base_uri": "https://localhost:8080/",
          "height": 170
        }
      },
      "source": [
        "new_results = spark.sql(\"select * from customer where age>22\").show()\n"
      ],
      "execution_count": 0,
      "outputs": [
        {
          "output_type": "stream",
          "text": [
            "+---+------+------+-------+---------+\n",
            "|Age|Salary|Gender|Country|Purchased|\n",
            "+---+------+------+-------+---------+\n",
            "| 23| 35000|Female|England|        N|\n",
            "| 24|  null|  Male|Germany|        N|\n",
            "| 25| 32000|Female| France|        Y|\n",
            "| 27| 37000|Female| France|        N|\n",
            "+---+------+------+-------+---------+\n",
            "\n"
          ],
          "name": "stdout"
        }
      ]
    },
    {
      "cell_type": "markdown",
      "metadata": {
        "id": "n0g0wAHeqVrJ",
        "colab_type": "text"
      },
      "source": [
        "## Display the salary of customers with age greater than 22"
      ]
    },
    {
      "cell_type": "code",
      "metadata": {
        "id": "ulSNKU67qP5k",
        "colab_type": "code",
        "outputId": "5898e1bb-a3cc-4a6c-859e-50119e508244",
        "colab": {
          "base_uri": "https://localhost:8080/",
          "height": 170
        }
      },
      "source": [
        "new_results = spark.sql(\"select * from customer where age>22\").select(\"salary\").show()"
      ],
      "execution_count": 0,
      "outputs": [
        {
          "output_type": "stream",
          "text": [
            "+------+\n",
            "|salary|\n",
            "+------+\n",
            "| 35000|\n",
            "|  null|\n",
            "| 32000|\n",
            "| 37000|\n",
            "+------+\n",
            "\n"
          ],
          "name": "stdout"
        }
      ]
    },
    {
      "cell_type": "markdown",
      "metadata": {
        "id": "tL9Ybh_Vqk0G",
        "colab_type": "text"
      },
      "source": [
        "## List of people earning more than 30000 with Spark DataFrame"
      ]
    },
    {
      "cell_type": "code",
      "metadata": {
        "id": "CUrNBshyqUsO",
        "colab_type": "code",
        "outputId": "12e0ab51-bd8b-48c3-cf26-2c82f6afc433",
        "colab": {
          "base_uri": "https://localhost:8080/",
          "height": 187
        }
      },
      "source": [
        "customerDF.filter(\"salary > 30000\").show()\n"
      ],
      "execution_count": 0,
      "outputs": [
        {
          "output_type": "stream",
          "text": [
            "+----+------+------+-------+---------+\n",
            "| Age|Salary|Gender|Country|Purchased|\n",
            "+----+------+------+-------+---------+\n",
            "|  22| 50000|  Male| France|        Y|\n",
            "|  23| 35000|Female|England|        N|\n",
            "|  25| 32000|Female| France|        Y|\n",
            "|null| 35000|  Male|Germany|        N|\n",
            "|  27| 37000|Female| France|        N|\n",
            "+----+------+------+-------+---------+\n",
            "\n"
          ],
          "name": "stdout"
        }
      ]
    },
    {
      "cell_type": "markdown",
      "metadata": {
        "id": "oOi8Q18Bqve3",
        "colab_type": "text"
      },
      "source": [
        "## List of people earning more than 200K with Spark SQL"
      ]
    },
    {
      "cell_type": "code",
      "metadata": {
        "id": "FGhoyKEtqtWQ",
        "colab_type": "code",
        "outputId": "cc483eaf-0059-4b0b-8d8c-a10243f150ef",
        "colab": {
          "base_uri": "https://localhost:8080/",
          "height": 187
        }
      },
      "source": [
        "spark.sql(\"select * from customer where salary > 30000\").show()"
      ],
      "execution_count": 0,
      "outputs": [
        {
          "output_type": "stream",
          "text": [
            "+----+------+------+-------+---------+\n",
            "| Age|Salary|Gender|Country|Purchased|\n",
            "+----+------+------+-------+---------+\n",
            "|  22| 50000|  Male| France|        Y|\n",
            "|  23| 35000|Female|England|        N|\n",
            "|  25| 32000|Female| France|        Y|\n",
            "|null| 35000|  Male|Germany|        N|\n",
            "|  27| 37000|Female| France|        N|\n",
            "+----+------+------+-------+---------+\n",
            "\n"
          ],
          "name": "stdout"
        }
      ]
    },
    {
      "cell_type": "markdown",
      "metadata": {
        "id": "-7cJVrCmq7Mx",
        "colab_type": "text"
      },
      "source": [
        "## Group By gender find average salary and max age"
      ]
    },
    {
      "cell_type": "code",
      "metadata": {
        "id": "PKrFN_Wsq1rI",
        "colab_type": "code",
        "outputId": "d62db4b3-0034-4f5d-88c8-42089f508a19",
        "colab": {
          "base_uri": "https://localhost:8080/",
          "height": 136
        }
      },
      "source": [
        "customerDF.groupBy(\"gender\").agg({\"salary\": \"avg\", \"age\": \"max\"}).show()"
      ],
      "execution_count": 0,
      "outputs": [
        {
          "output_type": "stream",
          "text": [
            "+------+-----------+--------+\n",
            "|gender|avg(salary)|max(age)|\n",
            "+------+-----------+--------+\n",
            "|Female|    30000.0|      27|\n",
            "|  Male|    35000.0|      24|\n",
            "+------+-----------+--------+\n",
            "\n"
          ],
          "name": "stdout"
        }
      ]
    },
    {
      "cell_type": "markdown",
      "metadata": {
        "id": "yDvIK2JjrOjI",
        "colab_type": "text"
      },
      "source": [
        "## Fetch Multiple Columns"
      ]
    },
    {
      "cell_type": "code",
      "metadata": {
        "id": "bVjYQFWmrJzP",
        "colab_type": "code",
        "outputId": "48a7a4bd-a97d-452a-ccc1-670bcfef3518",
        "colab": {
          "base_uri": "https://localhost:8080/",
          "height": 272
        }
      },
      "source": [
        "customerDF.select([\"age\",\"salary\"]).show()"
      ],
      "execution_count": 0,
      "outputs": [
        {
          "output_type": "stream",
          "text": [
            "+----+------+\n",
            "| age|salary|\n",
            "+----+------+\n",
            "|  18| 20000|\n",
            "|  19| 22000|\n",
            "|  20| 24000|\n",
            "|  21|  null|\n",
            "|  22| 50000|\n",
            "|  23| 35000|\n",
            "|  24|  null|\n",
            "|  25| 32000|\n",
            "|null| 35000|\n",
            "|  27| 37000|\n",
            "+----+------+\n",
            "\n"
          ],
          "name": "stdout"
        }
      ]
    },
    {
      "cell_type": "markdown",
      "metadata": {
        "id": "LqzOqYYDrTgj",
        "colab_type": "text"
      },
      "source": [
        "## Adding a new column"
      ]
    },
    {
      "cell_type": "code",
      "metadata": {
        "id": "r6k6Pzj8rRs4",
        "colab_type": "code",
        "outputId": "d6a84ba5-939e-466d-ce44-e7fd3bb2c40f",
        "colab": {
          "base_uri": "https://localhost:8080/",
          "height": 272
        }
      },
      "source": [
        "customerDF.withColumn('doublesalary',customerDF['salary']*2).show()"
      ],
      "execution_count": 0,
      "outputs": [
        {
          "output_type": "stream",
          "text": [
            "+----+------+------+-------+---------+------------+\n",
            "| Age|Salary|Gender|Country|Purchased|doublesalary|\n",
            "+----+------+------+-------+---------+------------+\n",
            "|  18| 20000|  Male|Germany|        N|     40000.0|\n",
            "|  19| 22000|Female| France|        N|     44000.0|\n",
            "|  20| 24000|Female|England|        N|     48000.0|\n",
            "|  21|  null|  Male|England|        N|        null|\n",
            "|  22| 50000|  Male| France|        Y|    100000.0|\n",
            "|  23| 35000|Female|England|        N|     70000.0|\n",
            "|  24|  null|  Male|Germany|        N|        null|\n",
            "|  25| 32000|Female| France|        Y|     64000.0|\n",
            "|null| 35000|  Male|Germany|        N|     70000.0|\n",
            "|  27| 37000|Female| France|        N|     74000.0|\n",
            "+----+------+------+-------+---------+------------+\n",
            "\n"
          ],
          "name": "stdout"
        }
      ]
    },
    {
      "cell_type": "markdown",
      "metadata": {
        "id": "FDLWEqsKrab7",
        "colab_type": "text"
      },
      "source": [
        "## Renaming a column"
      ]
    },
    {
      "cell_type": "code",
      "metadata": {
        "id": "boOvg1DurXD5",
        "colab_type": "code",
        "outputId": "7bea97fa-ea45-400c-c11a-3c84e37d39de",
        "colab": {
          "base_uri": "https://localhost:8080/",
          "height": 272
        }
      },
      "source": [
        "customerDF.withColumnRenamed('salary', 'income').show()"
      ],
      "execution_count": 0,
      "outputs": [
        {
          "output_type": "stream",
          "text": [
            "+----+------+------+-------+---------+\n",
            "| Age|income|Gender|Country|Purchased|\n",
            "+----+------+------+-------+---------+\n",
            "|  18| 20000|  Male|Germany|        N|\n",
            "|  19| 22000|Female| France|        N|\n",
            "|  20| 24000|Female|England|        N|\n",
            "|  21|  null|  Male|England|        N|\n",
            "|  22| 50000|  Male| France|        Y|\n",
            "|  23| 35000|Female|England|        N|\n",
            "|  24|  null|  Male|Germany|        N|\n",
            "|  25| 32000|Female| France|        Y|\n",
            "|null| 35000|  Male|Germany|        N|\n",
            "|  27| 37000|Female| France|        N|\n",
            "+----+------+------+-------+---------+\n",
            "\n"
          ],
          "name": "stdout"
        }
      ]
    },
    {
      "cell_type": "markdown",
      "metadata": {
        "id": "h-_iME_OrhW1",
        "colab_type": "text"
      },
      "source": [
        "## Age of people earning more than 30000"
      ]
    },
    {
      "cell_type": "code",
      "metadata": {
        "id": "hII4pwE0rdrO",
        "colab_type": "code",
        "outputId": "5c8844dc-e737-4a2a-938f-4a5d887e2af0",
        "colab": {
          "base_uri": "https://localhost:8080/",
          "height": 187
        }
      },
      "source": [
        "customerDF.filter(\"salary > 30000\").select('age').show()"
      ],
      "execution_count": 0,
      "outputs": [
        {
          "output_type": "stream",
          "text": [
            "+----+\n",
            "| age|\n",
            "+----+\n",
            "|  22|\n",
            "|  23|\n",
            "|  25|\n",
            "|null|\n",
            "|  27|\n",
            "+----+\n",
            "\n"
          ],
          "name": "stdout"
        }
      ]
    },
    {
      "cell_type": "markdown",
      "metadata": {
        "id": "cw2L1WtJrnPb",
        "colab_type": "text"
      },
      "source": [
        "## Age & country of people earning more than 200K"
      ]
    },
    {
      "cell_type": "code",
      "metadata": {
        "id": "k5ZZlK2Arjvv",
        "colab_type": "code",
        "outputId": "990069fc-e84b-4506-e387-d7d9e878e349",
        "colab": {
          "base_uri": "https://localhost:8080/",
          "height": 187
        }
      },
      "source": [
        "customerDF.filter(\"salary > 30000\").select('age','country').show()"
      ],
      "execution_count": 0,
      "outputs": [
        {
          "output_type": "stream",
          "text": [
            "+----+-------+\n",
            "| age|country|\n",
            "+----+-------+\n",
            "|  22| France|\n",
            "|  23|England|\n",
            "|  25| France|\n",
            "|null|Germany|\n",
            "|  27| France|\n",
            "+----+-------+\n",
            "\n"
          ],
          "name": "stdout"
        }
      ]
    },
    {
      "cell_type": "markdown",
      "metadata": {
        "id": "LqkK_ZQbr0ct",
        "colab_type": "text"
      },
      "source": [
        "## Fetching data with Python comparision operator"
      ]
    },
    {
      "cell_type": "code",
      "metadata": {
        "id": "zUq-r5ZqrsyW",
        "colab_type": "code",
        "outputId": "30cd71c5-d2da-4461-a440-bf1139ae5218",
        "colab": {
          "base_uri": "https://localhost:8080/",
          "height": 187
        }
      },
      "source": [
        "customerDF.filter(customerDF['salary'] > 30000).show()\n"
      ],
      "execution_count": 0,
      "outputs": [
        {
          "output_type": "stream",
          "text": [
            "+----+------+------+-------+---------+\n",
            "| Age|Salary|Gender|Country|Purchased|\n",
            "+----+------+------+-------+---------+\n",
            "|  22| 50000|  Male| France|        Y|\n",
            "|  23| 35000|Female|England|        N|\n",
            "|  25| 32000|Female| France|        Y|\n",
            "|null| 35000|  Male|Germany|        N|\n",
            "|  27| 37000|Female| France|        N|\n",
            "+----+------+------+-------+---------+\n",
            "\n"
          ],
          "name": "stdout"
        }
      ]
    },
    {
      "cell_type": "code",
      "metadata": {
        "id": "qp4TnC-3r55b",
        "colab_type": "code",
        "outputId": "a3677a14-ecf9-41b8-d8cd-aa1dc975d925",
        "colab": {
          "base_uri": "https://localhost:8080/",
          "height": 187
        }
      },
      "source": [
        "\n",
        "customerDF.filter(customerDF['salary'] > 30000).select('age','country').show()"
      ],
      "execution_count": 0,
      "outputs": [
        {
          "output_type": "stream",
          "text": [
            "+----+-------+\n",
            "| age|country|\n",
            "+----+-------+\n",
            "|  22| France|\n",
            "|  23|England|\n",
            "|  25| France|\n",
            "|null|Germany|\n",
            "|  27| France|\n",
            "+----+-------+\n",
            "\n"
          ],
          "name": "stdout"
        }
      ]
    },
    {
      "cell_type": "markdown",
      "metadata": {
        "id": "s7qqMKadsBAl",
        "colab_type": "text"
      },
      "source": [
        "## Applying multiple Filter conditions"
      ]
    },
    {
      "cell_type": "code",
      "metadata": {
        "id": "GsCIpcOBr79I",
        "colab_type": "code",
        "outputId": "cda78e36-1aba-43b1-c8be-dea4d1cc6a17",
        "colab": {
          "base_uri": "https://localhost:8080/",
          "height": 136
        }
      },
      "source": [
        "customerDF.filter((customerDF['salary'] > 30000) & (customerDF['age'] < 25)).show()"
      ],
      "execution_count": 0,
      "outputs": [
        {
          "output_type": "stream",
          "text": [
            "+---+------+------+-------+---------+\n",
            "|Age|Salary|Gender|Country|Purchased|\n",
            "+---+------+------+-------+---------+\n",
            "| 22| 50000|  Male| France|        Y|\n",
            "| 23| 35000|Female|England|        N|\n",
            "+---+------+------+-------+---------+\n",
            "\n"
          ],
          "name": "stdout"
        }
      ]
    },
    {
      "cell_type": "markdown",
      "metadata": {
        "id": "SDzabRZGsGZL",
        "colab_type": "text"
      },
      "source": [
        "## ~ is a not operation"
      ]
    },
    {
      "cell_type": "code",
      "metadata": {
        "id": "nAeb51TZsDq_",
        "colab_type": "code",
        "outputId": "ca8e2872-7674-4019-8f6d-2c5d9f0ae277",
        "colab": {
          "base_uri": "https://localhost:8080/",
          "height": 170
        }
      },
      "source": [
        "customerDF.filter((customerDF['salary'] > 30000) & ~(customerDF['age'] < 22)).show()"
      ],
      "execution_count": 0,
      "outputs": [
        {
          "output_type": "stream",
          "text": [
            "+---+------+------+-------+---------+\n",
            "|Age|Salary|Gender|Country|Purchased|\n",
            "+---+------+------+-------+---------+\n",
            "| 22| 50000|  Male| France|        Y|\n",
            "| 23| 35000|Female|England|        N|\n",
            "| 25| 32000|Female| France|        Y|\n",
            "| 27| 37000|Female| France|        N|\n",
            "+---+------+------+-------+---------+\n",
            "\n"
          ],
          "name": "stdout"
        }
      ]
    },
    {
      "cell_type": "markdown",
      "metadata": {
        "id": "GCgKHtEz5dpc",
        "colab_type": "text"
      },
      "source": [
        "## Count Distrinct, Average and Standard Deviation"
      ]
    },
    {
      "cell_type": "code",
      "metadata": {
        "id": "EIc3-poGwQUd",
        "colab_type": "code",
        "colab": {}
      },
      "source": [
        "from pyspark.sql.functions import countDistinct, avg,stddev"
      ],
      "execution_count": 0,
      "outputs": []
    },
    {
      "cell_type": "markdown",
      "metadata": {
        "id": "gACgYTDGw7KO",
        "colab_type": "text"
      },
      "source": [
        "## count distinct countries\n"
      ]
    },
    {
      "cell_type": "code",
      "metadata": {
        "id": "dv8UmJD0w4gb",
        "colab_type": "code",
        "outputId": "8345343b-9550-4a88-e0b0-ff0433604d2f",
        "colab": {
          "base_uri": "https://localhost:8080/",
          "height": 119
        }
      },
      "source": [
        "customerDF.select(countDistinct(\"country\")).show()\n"
      ],
      "execution_count": 0,
      "outputs": [
        {
          "output_type": "stream",
          "text": [
            "+-----------------------+\n",
            "|count(DISTINCT country)|\n",
            "+-----------------------+\n",
            "|                      3|\n",
            "+-----------------------+\n",
            "\n"
          ],
          "name": "stdout"
        }
      ]
    },
    {
      "cell_type": "markdown",
      "metadata": {
        "id": "MaxGV0LxxGcf",
        "colab_type": "text"
      },
      "source": [
        "## Use alias"
      ]
    },
    {
      "cell_type": "code",
      "metadata": {
        "id": "vJBb8R9Ew-vV",
        "colab_type": "code",
        "outputId": "041cea1c-e1fc-42ba-dc13-c0cdd8e61796",
        "colab": {
          "base_uri": "https://localhost:8080/",
          "height": 119
        }
      },
      "source": [
        "customerDF.select(countDistinct(\"country\").alias(\"Distinct Countries\")).show()"
      ],
      "execution_count": 0,
      "outputs": [
        {
          "output_type": "stream",
          "text": [
            "+------------------+\n",
            "|Distinct Countries|\n",
            "+------------------+\n",
            "|                 3|\n",
            "+------------------+\n",
            "\n"
          ],
          "name": "stdout"
        }
      ]
    },
    {
      "cell_type": "markdown",
      "metadata": {
        "id": "BR3t-YUaxT9X",
        "colab_type": "text"
      },
      "source": [
        "## Calculate avergage income"
      ]
    },
    {
      "cell_type": "code",
      "metadata": {
        "id": "G4eyQ4cTxArq",
        "colab_type": "code",
        "outputId": "7a733e6c-46f7-4298-ee98-3b731d46ae01",
        "colab": {
          "base_uri": "https://localhost:8080/",
          "height": 119
        }
      },
      "source": [
        "customerDF.select(avg('salary')).show()"
      ],
      "execution_count": 0,
      "outputs": [
        {
          "output_type": "stream",
          "text": [
            "+-----------+\n",
            "|avg(salary)|\n",
            "+-----------+\n",
            "|    31875.0|\n",
            "+-----------+\n",
            "\n"
          ],
          "name": "stdout"
        }
      ]
    },
    {
      "cell_type": "markdown",
      "metadata": {
        "id": "z2M93SYyxXr9",
        "colab_type": "text"
      },
      "source": [
        "## Calculate avergage age"
      ]
    },
    {
      "cell_type": "code",
      "metadata": {
        "id": "R3gFdtTvxV8x",
        "colab_type": "code",
        "outputId": "134a6e93-7967-49c1-d5bd-044c6ab43b2c",
        "colab": {
          "base_uri": "https://localhost:8080/",
          "height": 119
        }
      },
      "source": [
        "customerDF.select(avg('age')).show()"
      ],
      "execution_count": 0,
      "outputs": [
        {
          "output_type": "stream",
          "text": [
            "+-----------------+\n",
            "|         avg(age)|\n",
            "+-----------------+\n",
            "|22.11111111111111|\n",
            "+-----------------+\n",
            "\n"
          ],
          "name": "stdout"
        }
      ]
    },
    {
      "cell_type": "markdown",
      "metadata": {
        "id": "eIoign7SxbS1",
        "colab_type": "text"
      },
      "source": [
        "## Calculate standard deviation"
      ]
    },
    {
      "cell_type": "code",
      "metadata": {
        "id": "eS2LLA2lxZ2c",
        "colab_type": "code",
        "outputId": "d4d6db60-eb0b-4b41-d0a7-3768f9479ef0",
        "colab": {
          "base_uri": "https://localhost:8080/",
          "height": 119
        }
      },
      "source": [
        "customerDF.select(stddev(\"salary\")).show()\n"
      ],
      "execution_count": 0,
      "outputs": [
        {
          "output_type": "stream",
          "text": [
            "+-------------------+\n",
            "|stddev_samp(salary)|\n",
            "+-------------------+\n",
            "|  9818.895777311942|\n",
            "+-------------------+\n",
            "\n"
          ],
          "name": "stdout"
        }
      ]
    },
    {
      "cell_type": "code",
      "metadata": {
        "id": "mc_GSz8fxe-u",
        "colab_type": "code",
        "outputId": "a9bf73d9-fe73-4157-fde6-f929e21b4444",
        "colab": {
          "base_uri": "https://localhost:8080/",
          "height": 119
        }
      },
      "source": [
        "customerDF.select(stddev(\"age\")).show()"
      ],
      "execution_count": 0,
      "outputs": [
        {
          "output_type": "stream",
          "text": [
            "+-----------------+\n",
            "| stddev_samp(age)|\n",
            "+-----------------+\n",
            "|2.934469476943168|\n",
            "+-----------------+\n",
            "\n"
          ],
          "name": "stdout"
        }
      ]
    },
    {
      "cell_type": "markdown",
      "metadata": {
        "id": "PFZGe7TXxnJ8",
        "colab_type": "text"
      },
      "source": [
        "## format number"
      ]
    },
    {
      "cell_type": "code",
      "metadata": {
        "id": "5jtn3PGQ421V",
        "colab_type": "code",
        "colab": {}
      },
      "source": [
        "from pyspark.sql.functions import format_number"
      ],
      "execution_count": 0,
      "outputs": []
    },
    {
      "cell_type": "code",
      "metadata": {
        "id": "SyXzNcpcxhRP",
        "colab_type": "code",
        "colab": {}
      },
      "source": [
        "salary_std = customerDF.select(stddev(\"salary\").alias('std'))\n"
      ],
      "execution_count": 0,
      "outputs": []
    },
    {
      "cell_type": "code",
      "metadata": {
        "id": "eZIvdf-hxpPh",
        "colab_type": "code",
        "outputId": "e22d1885-371b-4d5f-d502-46b8b252bd6a",
        "colab": {
          "base_uri": "https://localhost:8080/",
          "height": 119
        }
      },
      "source": [
        "salary_std.show()\n"
      ],
      "execution_count": 0,
      "outputs": [
        {
          "output_type": "stream",
          "text": [
            "+-----------------+\n",
            "|              std|\n",
            "+-----------------+\n",
            "|9818.895777311942|\n",
            "+-----------------+\n",
            "\n"
          ],
          "name": "stdout"
        }
      ]
    },
    {
      "cell_type": "code",
      "metadata": {
        "id": "KsBZOsQrxr2d",
        "colab_type": "code",
        "outputId": "bc030548-16b0-43ae-ebfd-17b339f4d1c2",
        "colab": {
          "base_uri": "https://localhost:8080/",
          "height": 119
        }
      },
      "source": [
        "salary_std.select(format_number('std',2)).show()\n"
      ],
      "execution_count": 0,
      "outputs": [
        {
          "output_type": "stream",
          "text": [
            "+---------------------+\n",
            "|format_number(std, 2)|\n",
            "+---------------------+\n",
            "|             9,818.90|\n",
            "+---------------------+\n",
            "\n"
          ],
          "name": "stdout"
        }
      ]
    },
    {
      "cell_type": "markdown",
      "metadata": {
        "id": "5OuzChE6xxIK",
        "colab_type": "text"
      },
      "source": [
        "## Order By"
      ]
    },
    {
      "cell_type": "markdown",
      "metadata": {
        "id": "gcUrKCo250CX",
        "colab_type": "text"
      },
      "source": [
        "Order By Ascending"
      ]
    },
    {
      "cell_type": "code",
      "metadata": {
        "id": "yMafFaGCxtT-",
        "colab_type": "code",
        "outputId": "2bc07465-5eb2-4964-f306-9169967dd8d7",
        "colab": {
          "base_uri": "https://localhost:8080/",
          "height": 272
        }
      },
      "source": [
        "customerDF.orderBy(\"salary\").show()\n"
      ],
      "execution_count": 0,
      "outputs": [
        {
          "output_type": "stream",
          "text": [
            "+----+------+------+-------+---------+\n",
            "| Age|Salary|Gender|Country|Purchased|\n",
            "+----+------+------+-------+---------+\n",
            "|  21|  null|  Male|England|        N|\n",
            "|  24|  null|  Male|Germany|        N|\n",
            "|  18| 20000|  Male|Germany|        N|\n",
            "|  19| 22000|Female| France|        N|\n",
            "|  20| 24000|Female|England|        N|\n",
            "|  25| 32000|Female| France|        Y|\n",
            "|null| 35000|  Male|Germany|        N|\n",
            "|  23| 35000|Female|England|        N|\n",
            "|  27| 37000|Female| France|        N|\n",
            "|  22| 50000|  Male| France|        Y|\n",
            "+----+------+------+-------+---------+\n",
            "\n"
          ],
          "name": "stdout"
        }
      ]
    },
    {
      "cell_type": "markdown",
      "metadata": {
        "id": "kebZM24P54XZ",
        "colab_type": "text"
      },
      "source": [
        "Order by descending"
      ]
    },
    {
      "cell_type": "code",
      "metadata": {
        "id": "WZKHHBAFxzr7",
        "colab_type": "code",
        "outputId": "00fec280-ee9b-422b-84bf-0db4b63009c3",
        "colab": {
          "base_uri": "https://localhost:8080/",
          "height": 272
        }
      },
      "source": [
        "customerDF.orderBy(customerDF[\"salary\"].desc()).show()\n"
      ],
      "execution_count": 0,
      "outputs": [
        {
          "output_type": "stream",
          "text": [
            "+----+------+------+-------+---------+\n",
            "| Age|Salary|Gender|Country|Purchased|\n",
            "+----+------+------+-------+---------+\n",
            "|  22| 50000|  Male| France|        Y|\n",
            "|  27| 37000|Female| France|        N|\n",
            "|  23| 35000|Female|England|        N|\n",
            "|null| 35000|  Male|Germany|        N|\n",
            "|  25| 32000|Female| France|        Y|\n",
            "|  20| 24000|Female|England|        N|\n",
            "|  19| 22000|Female| France|        N|\n",
            "|  18| 20000|  Male|Germany|        N|\n",
            "|  21|  null|  Male|England|        N|\n",
            "|  24|  null|  Male|Germany|        N|\n",
            "+----+------+------+-------+---------+\n",
            "\n"
          ],
          "name": "stdout"
        }
      ]
    },
    {
      "cell_type": "markdown",
      "metadata": {
        "id": "1o4nMOsVyBrB",
        "colab_type": "text"
      },
      "source": [
        "## drop any row that contains null data"
      ]
    },
    {
      "cell_type": "code",
      "metadata": {
        "id": "wwAeFFq8x1Bs",
        "colab_type": "code",
        "outputId": "faa31d53-f611-4585-f6c8-ceff76230864",
        "colab": {
          "base_uri": "https://localhost:8080/",
          "height": 221
        }
      },
      "source": [
        "customerDF.na.drop().show()\n"
      ],
      "execution_count": 0,
      "outputs": [
        {
          "output_type": "stream",
          "text": [
            "+---+------+------+-------+---------+\n",
            "|Age|Salary|Gender|Country|Purchased|\n",
            "+---+------+------+-------+---------+\n",
            "| 18| 20000|  Male|Germany|        N|\n",
            "| 19| 22000|Female| France|        N|\n",
            "| 20| 24000|Female|England|        N|\n",
            "| 22| 50000|  Male| France|        Y|\n",
            "| 23| 35000|Female|England|        N|\n",
            "| 25| 32000|Female| France|        Y|\n",
            "| 27| 37000|Female| France|        N|\n",
            "+---+------+------+-------+---------+\n",
            "\n"
          ],
          "name": "stdout"
        }
      ]
    },
    {
      "cell_type": "markdown",
      "metadata": {
        "id": "J2Y6JvPfyXzI",
        "colab_type": "text"
      },
      "source": [
        "## Replace missing values"
      ]
    },
    {
      "cell_type": "code",
      "metadata": {
        "id": "4PSiXAGcyNha",
        "colab_type": "code",
        "outputId": "0d7cac64-22bb-4529-c1f3-c2aa79ed1671",
        "colab": {
          "base_uri": "https://localhost:8080/",
          "height": 272
        }
      },
      "source": [
        "customerDF.na.fill('NEW VALUE').show()\n"
      ],
      "execution_count": 0,
      "outputs": [
        {
          "output_type": "stream",
          "text": [
            "+---------+---------+------+-------+---------+\n",
            "|      Age|   Salary|Gender|Country|Purchased|\n",
            "+---------+---------+------+-------+---------+\n",
            "|       18|    20000|  Male|Germany|        N|\n",
            "|       19|    22000|Female| France|        N|\n",
            "|       20|    24000|Female|England|        N|\n",
            "|       21|NEW VALUE|  Male|England|        N|\n",
            "|       22|    50000|  Male| France|        Y|\n",
            "|       23|    35000|Female|England|        N|\n",
            "|       24|NEW VALUE|  Male|Germany|        N|\n",
            "|       25|    32000|Female| France|        Y|\n",
            "|NEW VALUE|    35000|  Male|Germany|        N|\n",
            "|       27|    37000|Female| France|        N|\n",
            "+---------+---------+------+-------+---------+\n",
            "\n"
          ],
          "name": "stdout"
        }
      ]
    },
    {
      "cell_type": "code",
      "metadata": {
        "id": "pf-Uj08-ycKj",
        "colab_type": "code",
        "colab": {}
      },
      "source": [
        ""
      ],
      "execution_count": 0,
      "outputs": []
    }
  ]
}